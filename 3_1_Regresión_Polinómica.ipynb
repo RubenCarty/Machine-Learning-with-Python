{
  "cells": [
    {
      "cell_type": "markdown",
      "metadata": {
        "id": "view-in-github",
        "colab_type": "text"
      },
      "source": [
        "<a href=\"https://colab.research.google.com/github/RubenMcCarty/Machine-Learning-with-Python/blob/master/3_1_Regresio%CC%81n_Polino%CC%81mica.ipynb\" target=\"_parent\"><img src=\"https://colab.research.google.com/assets/colab-badge.svg\" alt=\"Open In Colab\"/></a>"
      ]
    },
    {
      "cell_type": "markdown",
      "metadata": {
        "id": "pUHInVwN8gr0"
      },
      "source": [
        "# <h1><center>REGRESION POLINOMIAL</center></h1>\n",
        "## [Mg. Rubén Quispe](https://www.linkedin.com/in/ruben-quispe-l/)\n",
        "## Sobre este Notebook\n",
        "En este notebook, aprenderemos a usar scikit learn para regresión polinómica. Descargamos el dataset de consumo de combustible y la emisión de CO2 de los automóviles. Luego dividimos nuestros datos en conjuntos de train y test, creamos un modelo usando el conjunto de train, evaluamos nuestro modelo usando el test set y finalmente usamos el modelo para predecir el valor desconocido.\n",
        "# Tabla de contenidos\n",
        "1. cargar o descargar data\n",
        "2. regresión polinomial\n",
        "3. Evaluación\n",
        "4. Práctica\n",
        "#1. Importando las librerias necesarias "
      ]
    },
    {
      "cell_type": "markdown",
      "metadata": {
        "id": "-z6TMYIZMrf4"
      },
      "source": [
        "# 1. IMPORTAR LAS LIBRERIAS NECESARIAS"
      ]
    },
    {
      "cell_type": "code",
      "execution_count": null,
      "metadata": {
        "id": "4Y2GpzBK-_sT"
      },
      "outputs": [],
      "source": [
        "import matplotlib.pyplot as plt\n",
        "import pandas as pd\n",
        "import numpy as np\n",
        "%matplotlib inline "
      ]
    },
    {
      "cell_type": "markdown",
      "metadata": {
        "id": "q_ETLz12BYuN"
      },
      "source": [
        "# 2. Load o Descargar o Lear la data "
      ]
    },
    {
      "cell_type": "code",
      "execution_count": null,
      "metadata": {
        "id": "DaVZfBw_Mrf5",
        "outputId": "221c239a-6f2d-4b3a-f144-c85088a0cf9c"
      },
      "outputs": [
        {
          "data": {
            "text/html": [
              "<div>\n",
              "<style scoped>\n",
              "    .dataframe tbody tr th:only-of-type {\n",
              "        vertical-align: middle;\n",
              "    }\n",
              "\n",
              "    .dataframe tbody tr th {\n",
              "        vertical-align: top;\n",
              "    }\n",
              "\n",
              "    .dataframe thead th {\n",
              "        text-align: right;\n",
              "    }\n",
              "</style>\n",
              "<table border=\"1\" class=\"dataframe\">\n",
              "  <thead>\n",
              "    <tr style=\"text-align: right;\">\n",
              "      <th></th>\n",
              "      <th>MODELYEAR</th>\n",
              "      <th>MAKE</th>\n",
              "      <th>MODEL</th>\n",
              "      <th>VEHICLECLASS</th>\n",
              "      <th>ENGINESIZE</th>\n",
              "      <th>CYLINDERS</th>\n",
              "      <th>TRANSMISSION</th>\n",
              "      <th>FUELTYPE</th>\n",
              "      <th>FUELCONSUMPTION_CITY</th>\n",
              "      <th>FUELCONSUMPTION_HWY</th>\n",
              "      <th>FUELCONSUMPTION_COMB</th>\n",
              "      <th>FUELCONSUMPTION_COMB_MPG</th>\n",
              "      <th>CO2EMISSIONS</th>\n",
              "    </tr>\n",
              "  </thead>\n",
              "  <tbody>\n",
              "    <tr>\n",
              "      <th>0</th>\n",
              "      <td>2014</td>\n",
              "      <td>ACURA</td>\n",
              "      <td>ILX</td>\n",
              "      <td>COMPACT</td>\n",
              "      <td>2.0</td>\n",
              "      <td>4</td>\n",
              "      <td>AS5</td>\n",
              "      <td>Z</td>\n",
              "      <td>9.9</td>\n",
              "      <td>6.7</td>\n",
              "      <td>8.5</td>\n",
              "      <td>33</td>\n",
              "      <td>196</td>\n",
              "    </tr>\n",
              "    <tr>\n",
              "      <th>1</th>\n",
              "      <td>2014</td>\n",
              "      <td>ACURA</td>\n",
              "      <td>ILX</td>\n",
              "      <td>COMPACT</td>\n",
              "      <td>2.4</td>\n",
              "      <td>4</td>\n",
              "      <td>M6</td>\n",
              "      <td>Z</td>\n",
              "      <td>11.2</td>\n",
              "      <td>7.7</td>\n",
              "      <td>9.6</td>\n",
              "      <td>29</td>\n",
              "      <td>221</td>\n",
              "    </tr>\n",
              "    <tr>\n",
              "      <th>2</th>\n",
              "      <td>2014</td>\n",
              "      <td>ACURA</td>\n",
              "      <td>ILX HYBRID</td>\n",
              "      <td>COMPACT</td>\n",
              "      <td>1.5</td>\n",
              "      <td>4</td>\n",
              "      <td>AV7</td>\n",
              "      <td>Z</td>\n",
              "      <td>6.0</td>\n",
              "      <td>5.8</td>\n",
              "      <td>5.9</td>\n",
              "      <td>48</td>\n",
              "      <td>136</td>\n",
              "    </tr>\n",
              "    <tr>\n",
              "      <th>3</th>\n",
              "      <td>2014</td>\n",
              "      <td>ACURA</td>\n",
              "      <td>MDX 4WD</td>\n",
              "      <td>SUV - SMALL</td>\n",
              "      <td>3.5</td>\n",
              "      <td>6</td>\n",
              "      <td>AS6</td>\n",
              "      <td>Z</td>\n",
              "      <td>12.7</td>\n",
              "      <td>9.1</td>\n",
              "      <td>11.1</td>\n",
              "      <td>25</td>\n",
              "      <td>255</td>\n",
              "    </tr>\n",
              "    <tr>\n",
              "      <th>4</th>\n",
              "      <td>2014</td>\n",
              "      <td>ACURA</td>\n",
              "      <td>RDX AWD</td>\n",
              "      <td>SUV - SMALL</td>\n",
              "      <td>3.5</td>\n",
              "      <td>6</td>\n",
              "      <td>AS6</td>\n",
              "      <td>Z</td>\n",
              "      <td>12.1</td>\n",
              "      <td>8.7</td>\n",
              "      <td>10.6</td>\n",
              "      <td>27</td>\n",
              "      <td>244</td>\n",
              "    </tr>\n",
              "  </tbody>\n",
              "</table>\n",
              "</div>"
            ],
            "text/plain": [
              "   MODELYEAR   MAKE       MODEL VEHICLECLASS  ENGINESIZE  CYLINDERS  \\\n",
              "0       2014  ACURA         ILX      COMPACT         2.0          4   \n",
              "1       2014  ACURA         ILX      COMPACT         2.4          4   \n",
              "2       2014  ACURA  ILX HYBRID      COMPACT         1.5          4   \n",
              "3       2014  ACURA     MDX 4WD  SUV - SMALL         3.5          6   \n",
              "4       2014  ACURA     RDX AWD  SUV - SMALL         3.5          6   \n",
              "\n",
              "  TRANSMISSION FUELTYPE  FUELCONSUMPTION_CITY  FUELCONSUMPTION_HWY  \\\n",
              "0          AS5        Z                   9.9                  6.7   \n",
              "1           M6        Z                  11.2                  7.7   \n",
              "2          AV7        Z                   6.0                  5.8   \n",
              "3          AS6        Z                  12.7                  9.1   \n",
              "4          AS6        Z                  12.1                  8.7   \n",
              "\n",
              "   FUELCONSUMPTION_COMB  FUELCONSUMPTION_COMB_MPG  CO2EMISSIONS  \n",
              "0                   8.5                        33           196  \n",
              "1                   9.6                        29           221  \n",
              "2                   5.9                        48           136  \n",
              "3                  11.1                        25           255  \n",
              "4                  10.6                        27           244  "
            ]
          },
          "execution_count": 3,
          "metadata": {},
          "output_type": "execute_result"
        }
      ],
      "source": [
        "# CARGAR LA DATA\n",
        "df = pd.read_csv('FuelConsumption.csv')\n",
        "#mirar el dataset\n",
        "df.head()"
      ]
    },
    {
      "cell_type": "code",
      "execution_count": null,
      "metadata": {
        "id": "JTxxK_V6Mrf6",
        "outputId": "ffe0e6b9-83da-42d4-a46b-5de5893998d3"
      },
      "outputs": [
        {
          "data": {
            "text/html": [
              "<div>\n",
              "<style scoped>\n",
              "    .dataframe tbody tr th:only-of-type {\n",
              "        vertical-align: middle;\n",
              "    }\n",
              "\n",
              "    .dataframe tbody tr th {\n",
              "        vertical-align: top;\n",
              "    }\n",
              "\n",
              "    .dataframe thead th {\n",
              "        text-align: right;\n",
              "    }\n",
              "</style>\n",
              "<table border=\"1\" class=\"dataframe\">\n",
              "  <thead>\n",
              "    <tr style=\"text-align: right;\">\n",
              "      <th></th>\n",
              "      <th>ENGINESIZE</th>\n",
              "      <th>CYLINDERS</th>\n",
              "      <th>FUELCONSUMPTION_COMB</th>\n",
              "      <th>CO2EMISSIONS</th>\n",
              "    </tr>\n",
              "  </thead>\n",
              "  <tbody>\n",
              "    <tr>\n",
              "      <th>0</th>\n",
              "      <td>2.0</td>\n",
              "      <td>4</td>\n",
              "      <td>8.5</td>\n",
              "      <td>196</td>\n",
              "    </tr>\n",
              "    <tr>\n",
              "      <th>1</th>\n",
              "      <td>2.4</td>\n",
              "      <td>4</td>\n",
              "      <td>9.6</td>\n",
              "      <td>221</td>\n",
              "    </tr>\n",
              "    <tr>\n",
              "      <th>2</th>\n",
              "      <td>1.5</td>\n",
              "      <td>4</td>\n",
              "      <td>5.9</td>\n",
              "      <td>136</td>\n",
              "    </tr>\n",
              "    <tr>\n",
              "      <th>3</th>\n",
              "      <td>3.5</td>\n",
              "      <td>6</td>\n",
              "      <td>11.1</td>\n",
              "      <td>255</td>\n",
              "    </tr>\n",
              "    <tr>\n",
              "      <th>4</th>\n",
              "      <td>3.5</td>\n",
              "      <td>6</td>\n",
              "      <td>10.6</td>\n",
              "      <td>244</td>\n",
              "    </tr>\n",
              "  </tbody>\n",
              "</table>\n",
              "</div>"
            ],
            "text/plain": [
              "   ENGINESIZE  CYLINDERS  FUELCONSUMPTION_COMB  CO2EMISSIONS\n",
              "0         2.0          4                   8.5           196\n",
              "1         2.4          4                   9.6           221\n",
              "2         1.5          4                   5.9           136\n",
              "3         3.5          6                  11.1           255\n",
              "4         3.5          6                  10.6           244"
            ]
          },
          "execution_count": 4,
          "metadata": {},
          "output_type": "execute_result"
        }
      ],
      "source": [
        "# seleccionamos algunas caracteristicas \n",
        "cdf= df[['ENGINESIZE', 'CYLINDERS','FUELCONSUMPTION_COMB','CO2EMISSIONS']]\n",
        "cdf.head()"
      ]
    },
    {
      "cell_type": "code",
      "execution_count": null,
      "metadata": {
        "id": "DQgVbJxnMrf7",
        "outputId": "727741d9-efbe-4aa1-b068-8e4db396ee50"
      },
      "outputs": [
        {
          "data": {
            "text/plain": [
              "<function matplotlib.pyplot.show(close=None, block=None)>"
            ]
          },
          "execution_count": 5,
          "metadata": {},
          "output_type": "execute_result"
        },
        {
          "data": {
            "image/png": "[encoded data removed]",
            "text/plain": [
              "<Figure size 432x288 with 1 Axes>"
            ]
          },
          "metadata": {
            "needs_background": "light"
          },
          "output_type": "display_data"
        }
      ],
      "source": [
        "# Graficar los valores de emisión de CO2 respecto a Tamaño de motor\n",
        "plt.scatter(cdf.ENGINESIZE, cdf.CO2EMISSIONS, color = 'blue')\n",
        "plt.xlabel('Tamaño de motor')\n",
        "plt.ylabel('Emision de CO2')\n",
        "plt.show"
      ]
    },
    {
      "cell_type": "code",
      "execution_count": null,
      "metadata": {
        "id": "-xPPb9SWMrf7",
        "outputId": "5765cd5d-d6fe-4af7-b73a-71ecd16b0a59"
      },
      "outputs": [
        {
          "data": {
            "text/plain": [
              "(1067, 4)"
            ]
          },
          "execution_count": 7,
          "metadata": {},
          "output_type": "execute_result"
        }
      ],
      "source": [
        "# como es la forma de la data\n",
        "cdf.shape"
      ]
    },
    {
      "cell_type": "code",
      "execution_count": null,
      "metadata": {
        "id": "RrpVMv7qMrf8",
        "outputId": "8a7bd28a-c616-4e67-fe9d-1fd5e5156318"
      },
      "outputs": [
        {
          "data": {
            "text/plain": [
              "4268"
            ]
          },
          "execution_count": 8,
          "metadata": {},
          "output_type": "execute_result"
        }
      ],
      "source": [
        "# tamaño de la dataset\n",
        "cdf.size"
      ]
    },
    {
      "cell_type": "code",
      "execution_count": null,
      "metadata": {
        "id": "Wgj4GtEBMrf8",
        "outputId": "b1676517-cd1c-4ab9-b386-d6f13926e293"
      },
      "outputs": [
        {
          "data": {
            "text/plain": [
              "MODELYEAR                   0\n",
              "MAKE                        0\n",
              "MODEL                       0\n",
              "VEHICLECLASS                0\n",
              "ENGINESIZE                  0\n",
              "CYLINDERS                   0\n",
              "TRANSMISSION                0\n",
              "FUELTYPE                    0\n",
              "FUELCONSUMPTION_CITY        0\n",
              "FUELCONSUMPTION_HWY         0\n",
              "FUELCONSUMPTION_COMB        0\n",
              "FUELCONSUMPTION_COMB_MPG    0\n",
              "CO2EMISSIONS                0\n",
              "dtype: int64"
            ]
          },
          "execution_count": 10,
          "metadata": {},
          "output_type": "execute_result"
        }
      ],
      "source": [
        "# para ver datos nulos\n",
        "df.isnull().sum()"
      ]
    },
    {
      "cell_type": "markdown",
      "metadata": {
        "id": "hjpwquesD4yI"
      },
      "source": [
        "# 3. Creando un conjunto de train y test\n",
        "La división de conjunto de Train/Test, implica dividir el dataset en train set y test set, que son mutuamente excluyentes. Despues se debe entrenar con el train set y probar con el test set."
      ]
    },
    {
      "cell_type": "code",
      "execution_count": null,
      "metadata": {
        "id": "v-muwCQPD0Kc"
      },
      "outputs": [],
      "source": [
        "msk = np.random.rand(len(df))<0.8\n",
        "train = cdf[msk]\n",
        "test = cdf[~msk]"
      ]
    },
    {
      "cell_type": "markdown",
      "metadata": {
        "id": "bEOZIM4bFWI8"
      },
      "source": [
        "# 4. Regresión Polinomial\n",
        "A veces, la tendencia de los datos no es realmente lineal y parece curvilínea. En este caso podemos utilizar métodos de regresión polinomial. De hecho, existen muchas regresiones diferentes que pueden usarse para ajustarse a cualquier aspecto del conjunto de datos, como cuadrático, cúbico, etc.y puede continuar hasta grados infinitos.\n",
        "\n",
        "En esencia, podemos llamar a todos estos regresión polinomial, donde la relación entre la variable independiente x y la variable dependiente y se modela como un polinomio de enésimo grado en x. Digamos que desea tener una regresión polinomial (hagamos un polinomio de 2 grados):\n",
        "\n",
        "$𝑦 = 𝑏 + \\theta_1𝑥 + \\theta_2𝑥^2 $\n",
        "Ahora, la pregunta es: ¿cómo podemos ajustar nuestros datos en esta ecuación mientras solo tenemos valores x, como el tamaño del motor? Bueno, podemos crear algunas características adicionales: 1, $𝑥$ y $𝑥^2$.\n",
        "\n",
        "La función **PloynomialFeatures()** en la biblioteca Scikit-learn, impulsa un nuevo conjunto de características del conjunto de características original. Es decir, se generará una matriz que consta de todas las combinaciones polinomiales de las características con grado menor o igual al grado especificado. Por ejemplo, digamos que el conjunto de características original tiene solo una característica, ENGINESIZE. Ahora, si seleccionamos el grado del polinomio para que sea 2, entonces genera 3 características, grado = 0, grado = 1 y grado = 2:"
      ]
    },
    {
      "cell_type": "code",
      "execution_count": null,
      "metadata": {
        "colab": {
          "base_uri": "https://localhost:8080/",
          "height": 136
        },
        "id": "QkHMsr4oFSUt",
        "outputId": "c597066a-52e8-4a15-f706-114c646748be"
      },
      "outputs": [
        {
          "data": {
            "text/plain": [
              "array([[ 1.  ,  2.4 ,  5.76],\n",
              "       [ 1.  ,  1.5 ,  2.25],\n",
              "       [ 1.  ,  3.5 , 12.25],\n",
              "       ...,\n",
              "       [ 1.  ,  3.  ,  9.  ],\n",
              "       [ 1.  ,  3.2 , 10.24],\n",
              "       [ 1.  ,  3.2 , 10.24]])"
            ]
          },
          "execution_count": 16,
          "metadata": {},
          "output_type": "execute_result"
        }
      ],
      "source": [
        "from sklearn.preprocessing import PolynomialFeatures\n",
        "from sklearn import linear_model\n",
        "train_x =np.asanyarray(train[['ENGINESIZE']])\n",
        "train_y = np.asanyarray(train[['CO2EMISSIONS']])\n",
        "\n",
        "test_x = np.asanyarray(test[['ENGINESIZE']])\n",
        "test_y = np.asanyarray(test[['CO2EMISSIONS']])\n",
        "\n",
        "poly = PolynomialFeatures(degree =2)\n",
        "train_x_poly = poly.fit_transform(train_x)\n",
        "train_x_poly"
      ]
    },
    {
      "cell_type": "markdown",
      "metadata": {
        "id": "k2YzTtnHMsj9"
      },
      "source": [
        "**fit_transform** toma nuestros valores de x y genera una lista de nuestros datos elevados desde la potencia de 0 a la potencia de 2 (ya que establecemos el grado de nuestro polinomio en 2).\n",
        "\n",
        "$\n",
        "\\begin{bmatrix}\n",
        "    v_1\\\\\n",
        "    v_2\\\\\n",
        "    \\vdots\\\\\n",
        "    v_n\n",
        "\\end{bmatrix}\n",
        "$\n",
        "$\\longrightarrow$\n",
        "$\n",
        "\\begin{bmatrix}\n",
        "    [ 1 & v_1 & v_1^2]\\\\\n",
        "    [ 1 & v_2 & v_2^2]\\\\\n",
        "    \\vdots & \\vdots & \\vdots\\\\\n",
        "    [ 1 & v_n & v_n^2]\n",
        "\\end{bmatrix}\n",
        "$\n",
        "\n",
        "in our example\n",
        "\n",
        "$\n",
        "\\begin{bmatrix}\n",
        "    2.\\\\\n",
        "    2.4\\\\\n",
        "    1.5\\\\\n",
        "    \\vdots\n",
        "\\end{bmatrix}\n",
        "$\n",
        "$\\longrightarrow$\n",
        "$\n",
        "\\begin{bmatrix}\n",
        "    [ 1 & 2. & 4.]\\\\\n",
        "    [ 1 & 2.4 & 5.76]\\\\\n",
        "    [ 1 & 1.5 & 2.25]\\\\\n",
        "    \\vdots & \\vdots & \\vdots\\\\\n",
        "\\end{bmatrix}\n",
        "$\n",
        "\n",
        "Parecen conjuntos de características para análisis de regresión lineal múltiple, ¿verdad? Si. Lo hace. De hecho, la regresión polinomial es un caso especial de regresión lineal, con la idea principal de cómo seleccionar sus características. Solo considere reemplazar $𝑥$ con $𝑥1$, $𝑥_1^2$ con $𝑥_2$, y así sucesivamente. Entonces la ecuación de grado 2 se convertiría en:\n",
        "\n",
        "$𝑦 = 𝑏 + \\theta_1 𝑥_1 +\\theta_2 𝑥2$\n",
        "\n",
        "Ahora, podemos tratarlo como un problema de \"regresión lineal\". Por lo tanto, esta regresión polinomial se considera un caso especial de regresión lineal múltiple tradicional. Entonces, puede usar el mismo mecanismo que la regresión lineal para resolver tales problemas.\n",
        "\n",
        "así que podemos usar la función LinearRegression () para resolverlo:"
      ]
    },
    {
      "cell_type": "code",
      "execution_count": null,
      "metadata": {
        "colab": {
          "base_uri": "https://localhost:8080/",
          "height": 51
        },
        "id": "1owSdYZRMcch",
        "outputId": "d3e75d7a-8047-42eb-c232-3b4378142d09"
      },
      "outputs": [
        {
          "name": "stdout",
          "output_type": "stream",
          "text": [
            "Coefficients:  [[ 0.         52.93445955 -1.87079687]]\n",
            "Intercept:  [103.94369864]\n"
          ]
        }
      ],
      "source": [
        "clf = linear_model.LinearRegression()\n",
        "train_y_ = clf.fit(train_x_poly, train_y)\n",
        "# The coefficients\n",
        "print ('Coefficients: ', clf.coef_)\n",
        "print ('Intercept: ',clf.intercept_)"
      ]
    },
    {
      "cell_type": "markdown",
      "metadata": {
        "id": "5qtAYd5HPDOw"
      },
      "source": [
        "Como se mencionó anteriormente, Coeficiente e Intercepción, son los parámetros de la línea curva ajustada. Dado que es una regresión lineal múltiple típica, con 3 parámetros, y sabiendo que los parámetros son la intersección y los coeficientes del hiperplano, sklearn los ha estimado a partir de nuestro nuevo conjunto de conjuntos de características. Vamos a trazarlo:"
      ]
    },
    {
      "cell_type": "code",
      "execution_count": null,
      "metadata": {
        "colab": {
          "base_uri": "https://localhost:8080/",
          "height": 297
        },
        "id": "1GBSnJ1HO5Ur",
        "outputId": "fc52a23f-6807-427b-cbea-5d9c3d4e483c"
      },
      "outputs": [
        {
          "data": {
            "text/plain": [
              "<function matplotlib.pyplot.show(close=None, block=None)>"
            ]
          },
          "execution_count": 18,
          "metadata": {},
          "output_type": "execute_result"
        },
        {
          "data": {
            "image/png": "[encoded data removed]",
            "text/plain": [
              "<Figure size 432x288 with 1 Axes>"
            ]
          },
          "metadata": {
            "needs_background": "light"
          },
          "output_type": "display_data"
        }
      ],
      "source": [
        "plt.scatter(train.ENGINESIZE, train.CO2EMISSIONS, color = 'blue')\n",
        "XX = np.arange(0.0,10.0, 0.1)\n",
        "YY = clf.intercept_[0]+ clf.coef_[0][1]*XX + clf.coef_[0][2]*np.power(XX, 2)\n",
        "plt.plot(XX, YY, '-r')\n",
        "plt.xlabel('Tamaño de motor')\n",
        "plt.ylabel('Emision de CO2')\n",
        "plt.show"
      ]
    },
    {
      "cell_type": "markdown",
      "metadata": {
        "id": "oHUK00l8PXRu"
      },
      "source": [
        "# 5.Evaluación"
      ]
    },
    {
      "cell_type": "code",
      "execution_count": null,
      "metadata": {
        "colab": {
          "base_uri": "https://localhost:8080/",
          "height": 68
        },
        "id": "c2XV9yw1PTlO",
        "outputId": "87f8cc53-7f75-4ceb-b3f3-1b6fa2aed7a0"
      },
      "outputs": [
        {
          "name": "stdout",
          "output_type": "stream",
          "text": [
            "MAE: 24.16\n",
            "MSE: 1053.61\n",
            "R2_SCORE: 0.65\n"
          ]
        }
      ],
      "source": [
        "from sklearn.metrics import r2_score\n",
        "\n",
        "test_x_poly = poly.fit_transform(test_x)\n",
        "test_y_ = clf.predict(test_x_poly)\n",
        "\n",
        "print('MAE: %.2f' % np.mean(np.absolute(test_y_ -test_y)))\n",
        "print ('MSE: %.2f' % np.mean((test_y_-test_y)**2))\n",
        "print ('R2_SCORE: %.2f' % r2_score(test_y_, test_y))"
      ]
    },
    {
      "cell_type": "markdown",
      "metadata": {
        "id": "dc7qTCc7QG0v"
      },
      "source": [
        "# 6. Práctica\n",
        "Intente utilizar una regresión polinomial con el conjunto de datos, pero esta vez con grado tres (cúbico). ¿Da como resultado una mejor precisión?"
      ]
    },
    {
      "cell_type": "code",
      "execution_count": null,
      "metadata": {
        "colab": {
          "base_uri": "https://localhost:8080/",
          "height": 365
        },
        "id": "zvmy0DcXPed6",
        "outputId": "286803ba-fcb4-4179-de95-a2bdd8354e8f"
      },
      "outputs": [
        {
          "name": "stdout",
          "output_type": "stream",
          "text": [
            "Coefficients:  [[ 0.         29.38713788  4.59884847 -0.53457382]]\n",
            "Intercept:  [129.00392759]\n",
            "Mean absolute error: 24.12\n",
            "Residual sum of squares (MSE): 1054.69\n",
            "R2-score: 0.65\n"
          ]
        },
        {
          "data": {
            "image/png": "[encoded data removed]",
            "text/plain": [
              "<Figure size 432x288 with 1 Axes>"
            ]
          },
          "metadata": {
            "needs_background": "light"
          },
          "output_type": "display_data"
        }
      ],
      "source": [
        "# Escribe tu codigo aqui\n",
        "poly3 = PolynomialFeatures(degree=3)\n",
        "train_x_poly3 = poly3.fit_transform(train_x)\n",
        "clf3 = linear_model.LinearRegression()\n",
        "train_y3_ = clf3.fit(train_x_poly3, train_y)\n",
        "# The coefficients\n",
        "print ('Coefficients: ', clf3.coef_)\n",
        "print ('Intercept: ',clf3.intercept_)\n",
        "plt.scatter(train.ENGINESIZE, train.CO2EMISSIONS,  color='blue')\n",
        "XX = np.arange(0.0, 10.0, 0.1)\n",
        "yy = clf3.intercept_[0]+ clf3.coef_[0][1]*XX + clf3.coef_[0][2]*np.power(XX, 2) + clf3.coef_[0][3]*np.power(XX, 3)\n",
        "plt.plot(XX, yy, '-r' )\n",
        "plt.xlabel(\"Engine size\")\n",
        "plt.ylabel(\"Emission\")\n",
        "test_x_poly3 = poly3.fit_transform(test_x)\n",
        "test_y3_ = clf3.predict(test_x_poly3)\n",
        "print(\"Mean absolute error: %.2f\" % np.mean(np.absolute(test_y3_ - test_y)))\n",
        "print(\"Residual sum of squares (MSE): %.2f\" % np.mean((test_y3_ - test_y) ** 2))\n",
        "print(\"R2-score: %.2f\" % r2_score(test_y3_ , test_y) )\n"
      ]
    },
    {
      "cell_type": "markdown",
      "metadata": {
        "id": "GdgiPgrdQa6U"
      },
      "source": [
        "# Muchas gracias \n",
        "### Atte:\n",
        "# Mg.Rubén Quispe"
      ]
    },
    {
      "cell_type": "code",
      "execution_count": null,
      "metadata": {
        "id": "UaRd0OhPQnYl"
      },
      "outputs": [],
      "source": []
    }
  ],
  "metadata": {
    "colab": {
      "provenance": [],
      "include_colab_link": true
    },
    "kernelspec": {
      "display_name": "Python 3",
      "language": "python",
      "name": "python3"
    },
    "language_info": {
      "codemirror_mode": {
        "name": "ipython",
        "version": 3
      },
      "file_extension": ".py",
      "mimetype": "text/x-python",
      "name": "python",
      "nbconvert_exporter": "python",
      "pygments_lexer": "ipython3",
      "version": "3.8.8"
    }
  },
  "nbformat": 4,
  "nbformat_minor": 0
}