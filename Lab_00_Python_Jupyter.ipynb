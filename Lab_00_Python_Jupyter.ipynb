{
  "cells": [
    {
      "cell_type": "markdown",
      "metadata": {
        "id": "view-in-github",
        "colab_type": "text"
      },
      "source": [
        "<a href=\"https://colab.research.google.com/github/RubenMcCarty/Machine-Learning-with-Python/blob/master/Lab_00_Python_Jupyter.ipynb\" target=\"_parent\"><img src=\"https://colab.research.google.com/assets/colab-badge.svg\" alt=\"Open In Colab\"/></a>"
      ]
    },
    {
      "cell_type": "markdown",
      "id": "28a331b4",
      "metadata": {
        "id": "28a331b4"
      },
      "source": [
        "#  Breve introducción a Python y Jupyter Notebooks\n",
        "## [M.Sc. Ruben Quispe](https://www.linkedin.com/in/ruben-quispe-l/)\n",
        "¡Bienvenido al primer laboratorio\n",
        "Los laboratorios están disponibles para:\n",
        "- proporcionar información\n",
        "- reforzar el material de lectura con ejemplos prácticos\n",
        "- proporcionar ejemplos prácticos de rutinas utilizadas en los laboratorios calificados"
      ]
    },
    {
      "cell_type": "markdown",
      "id": "44e9d643",
      "metadata": {
        "id": "44e9d643"
      },
      "source": [
        "## Objetivos\n",
        "En este laboratorio, usted:\n",
        "- Obtenga una breve introducción a los cuadernos Jupyter\n",
        "- Haga un recorrido por los cuadernos de Jupyter\n",
        "- Aprenda la diferencia entre celdas de descuento y celdas de código\n",
        "- Practica algo básico de python\n"
      ]
    },
    {
      "cell_type": "markdown",
      "id": "30941bf0",
      "metadata": {
        "id": "30941bf0"
      },
      "source": [
        "La forma más fácil de familiarizarse con los notebooks de Jupyter es realizar el recorrido disponible arriba en el menú Ayuda:"
      ]
    },
    {
      "cell_type": "markdown",
      "id": "bb6e5f41",
      "metadata": {
        "id": "bb6e5f41"
      },
      "source": [
        "<figure>\n",
        "    <center> <img src=\"./images/C1W1L1_Tour.PNG\"  alt='missing' width=\"400\"  ><center/>\n",
        "<figure/>"
      ]
    },
    {
      "cell_type": "markdown",
      "id": "79116b78",
      "metadata": {
        "id": "79116b78"
      },
      "source": [
        "Los NOTEBOOKs de Jupyter tienen dos tipos de celdas que se usan en este curso. Celdas como esta que contienen documentación denominada `Celdas de Markdown`. El nombre se deriva del lenguaje de formato simple utilizado en las celdas. No se le pedirá que produzca celdas de descuento. Es útil para comprender el \"desplegable de celdas\" que se muestra en el gráfico a continuación. Ocasionalmente, una celda terminará en el modo incorrecto y es posible que deba restaurarla al estado correcto:"
      ]
    },
    {
      "cell_type": "markdown",
      "id": "0c5124fb",
      "metadata": {
        "id": "0c5124fb"
      },
      "source": [
        "<figure>\n",
        "   <img src=\"./images/C1W1L1_Markdown.PNG\"  alt='missing' width=\"400\"  >\n",
        "<figure/>"
      ]
    },
    {
      "cell_type": "markdown",
      "id": "22efaec4",
      "metadata": {
        "id": "22efaec4"
      },
      "source": [
        "El otro tipo de celda es la `celda de código` donde escribirás tu código:"
      ]
    },
    {
      "cell_type": "code",
      "execution_count": null,
      "id": "a3926715",
      "metadata": {
        "id": "a3926715",
        "outputId": "96dbd1c9-ab82-43eb-dca1-40a8f59bdbc5"
      },
      "outputs": [
        {
          "name": "stdout",
          "output_type": "stream",
          "text": [
            "This is  code cell\n"
          ]
        }
      ],
      "source": [
        "#This is  a 'Code' Cell\n",
        "print(\"This is  code cell\")"
      ]
    },
    {
      "cell_type": "markdown",
      "id": "7345395c",
      "metadata": {
        "id": "7345395c"
      },
      "source": [
        "## Python\n",
        "Puede escribir su código en las celdas de código.\n",
        "Para ejecutar el código, seleccione la celda y\n",
        "- mantenga presionada la tecla shift y presione 'enter' o 'return'\n",
        "- haga clic en la flecha 'ejecutar' arriba\n",
        "<figura>\n",
        "     <img src=\"./images/C1W1L1_Run.PNG\" ancho=\"400\" >\n",
        "<figura/>\n",
        "\n",
        " "
      ]
    },
    {
      "cell_type": "markdown",
      "id": "a86f12bc",
      "metadata": {
        "id": "a86f12bc"
      },
      "source": [
        "### Print statement\n",
        "Las declaraciones de impresión generalmente usarán el estilo python f-string.\n",
        "* Intente crear su propia impresión en la siguiente celda.\n",
        "Pruebe ambos métodos para ejecutar la celda."
      ]
    },
    {
      "cell_type": "code",
      "execution_count": null,
      "id": "9a548ee6",
      "metadata": {
        "id": "9a548ee6",
        "outputId": "55aefcb4-b7b0-428d-e476-6b6e2eafa5a5"
      },
      "outputs": [
        {
          "name": "stdout",
          "output_type": "stream",
          "text": [
            "f strings allow you to embed variables right in the strings!\n"
          ]
        }
      ],
      "source": [
        "# print statements\n",
        "variable = \"right in the strings!\"\n",
        "print(f\"f strings allow you to embed variables {variable}\")"
      ]
    },
    {
      "cell_type": "markdown",
      "id": "c4d6a08d",
      "metadata": {
        "id": "c4d6a08d"
      },
      "source": [
        "# Congratulations!\n",
        "Ahora sabe cómo orientarse en un Jupyter Notebook."
      ]
    },
    {
      "cell_type": "code",
      "source": [],
      "metadata": {
        "id": "TXGft0LLsyVQ"
      },
      "id": "TXGft0LLsyVQ",
      "execution_count": null,
      "outputs": []
    }
  ],
  "metadata": {
    "kernelspec": {
      "display_name": "Python 3",
      "language": "python",
      "name": "python3"
    },
    "language_info": {
      "codemirror_mode": {
        "name": "ipython",
        "version": 3
      },
      "file_extension": ".py",
      "mimetype": "text/x-python",
      "name": "python",
      "nbconvert_exporter": "python",
      "pygments_lexer": "ipython3",
      "version": "3.8.8"
    },
    "colab": {
      "provenance": [],
      "include_colab_link": true
    }
  },
  "nbformat": 4,
  "nbformat_minor": 5
}