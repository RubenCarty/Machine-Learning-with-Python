{
  "nbformat": 4,
  "nbformat_minor": 0,
  "metadata": {
    "colab": {
      "name": "Lab_04.1_Regresión Robusta.ipynb",
      "provenance": [],
      "authorship_tag": "ABX9TyN3F0TkWOraTNGE4zayCKDh",
      "include_colab_link": true
    },
    "kernelspec": {
      "name": "python3",
      "display_name": "Python 3"
    }
  },
  "cells": [
    {
      "cell_type": "markdown",
      "metadata": {
        "id": "view-in-github",
        "colab_type": "text"
      },
      "source": [
        "<a href=\"https://colab.research.google.com/github/RubenMcCarty/Machine-Learning-with-Python/blob/master/Lab_04_1_Regresi%C3%B3n_Robusta.ipynb\" target=\"_parent\"><img src=\"https://colab.research.google.com/assets/colab-badge.svg\" alt=\"Open In Colab\"/></a>"
      ]
    },
    {
      "cell_type": "markdown",
      "metadata": {
        "id": "sI-uD4uybwDT"
      },
      "source": [
        "# REGRESIÓN ROBUSTA PARA MACHINE LEARNING EN PYTHON\r\n",
        "## Creado por [MSc. Rubén Quispe](https://www.linkedin.com/in/msc-rub%C3%A9n-quispe-l/)\r\n",
        "## [Curso de Machine Learning]()\r\n"
      ]
    },
    {
      "cell_type": "markdown",
      "metadata": {
        "id": "T9CMxRfdcJql"
      },
      "source": [
        "La regresión es una tarea de modelado que implica predecir un valor numérico dado una entrada.\r\n",
        "\r\n",
        "Los algoritmos utilizados para las tareas de regresión también se conocen como algoritmos de \" regresión \", siendo el más conocido y quizás el más exitoso la regresión lineal.\r\n",
        "\r\n",
        "La regresión lineal se ajusta a una línea o hiperplano que describe mejor la relación lineal entre las entradas y el valor numérico de objetivo o traget. Si los datos contienen valores atípicos, la línea puede sesgarse, lo que da como resultado un peor rendimiento predictivo. La regresión robusta se refiere a un conjunto de algoritmos que son robustos en presencia de valores atípicos en los datos de entrenamiento.\r\n",
        "\r\n",
        "En este laboratorio, descubrirá algoritmos de regresión sólidos para el Machine Learning.\r\n",
        "\r\n",
        "Después de completar este laboratrio, sabrá:\r\n",
        "\r\n",
        "* Se pueden usar algoritmos de regresión robustos para datos con valores atípicos en los valores de entrada o de destino.\r\n",
        "* Cómo evaluar algoritmos de regresión robustos para una tarea de modelado predictivo de regresión.\r\n",
        "* Cómo comparar algoritmos de regresión robustos usando su línea de mejor ajuste en el conjunto de datos."
      ]
    },
    {
      "cell_type": "markdown",
      "metadata": {
        "id": "aL93amIydjNm"
      },
      "source": [
        "# DESCRIPCIÓN \r\n",
        "1. Regresión con valores atípicos\r\n",
        "2. Conjunto de datos de regresión con valores atípicos\r\n",
        "3. Algoritmos de regresión robustos\r\n",
        "4. Comparar algoritmos de regresión robustos"
      ]
    },
    {
      "cell_type": "markdown",
      "metadata": {
        "id": "aKpiWkpmd5re"
      },
      "source": [
        "# Regresión con valores atípicos\r\n",
        "El modelado predictivo de regresión implica predecir una variable numérica dada alguna entrada, a menudo una entrada numérica.\r\n",
        "\r\n",
        "Los algoritmos de ML que se utilizan para las tareas de modelado predictivo de regresión también se conocen como \" regresión \" o \" algoritmos de regresión \". El método más común es la regresión lineal .\r\n",
        "\r\n",
        "Muchos algoritmos de regresión son lineales porque asumen que la relación entre la variable o variables de entrada y la variable objetivo es lineal, como una línea en dos dimensiones, un plano en tres dimensiones y un hiperplano en dimensiones superiores. Esta es una suposición razonable para muchas tareas de predicción.\r\n",
        "\r\n",
        "La regresión lineal supone que la distribución de probabilidad de cada variable se comporta bien, como tiene una distribución gaussiana. Cuanto menos se comporte la distribución de probabilidad de una característica en un conjunto de datos, menos probable es que la regresión lineal encuentre un buen ajuste.\r\n",
        "\r\n",
        "Un problema específico con la distribución de probabilidad de las variables cuando se usa la regresión lineal son los valores atípicos. Estas son observaciones que están muy por fuera de la distribución esperada. Por ejemplo, si una variable tiene una distribución gaussiana, una observación que tenga 3 o 4 (o más) desviaciones estándar de la media se considera un valor atípico.\r\n",
        "\r\n",
        "Un conjunto de datos puede tener valores atípicos en las variables de entrada o en la variable de objetivo, y ambos pueden causar problemas para un algoritmo de regresión lineal.\r\n",
        "\r\n",
        "Los valores atípicos en un conjunto de datos pueden sesgar los estadísticos de resumen calculados para la variable, como la media y la desviación estándar, lo que a su vez puede sesgar el modelo hacia los valores atípicos, lejos de la masa central de observaciones. Esto da como resultado modelos que intentan equilibrar un buen rendimiento en valores atípicos y datos normales, y un peor rendimiento en ambos en general.\r\n",
        "\r\n",
        "En cambio, la solución es utilizar versiones modificadas de regresión lineal que aborden específicamente la expectativa de valores atípicos en el conjunto de datos. Estos métodos se conocen como algoritmos de [regresión robustos](https://en.wikipedia.org/wiki/Robust_regression) ."
      ]
    },
    {
      "cell_type": "markdown",
      "metadata": {
        "id": "DdzR2B8dfVET"
      },
      "source": [
        "# Conjunto de datos de regresión con valores atípicos\r\n",
        "Podemos definir un conjunto de datos de regresión sintético usando la función [make_regression()](https://scikit-learn.org/stable/modules/generated/sklearn.datasets.make_regression.html).\r\n",
        "\r\n",
        "En este caso, queremos un conjunto de datos que podamos trazar y comprender fácilmente. Esto se puede lograr utilizando una única variable de entrada y una única variable de salida. No queremos que la tarea sea demasiado fácil, por lo que agregaremos una gran cantidad de ruido estadístico."
      ]
    },
    {
      "cell_type": "code",
      "metadata": {
        "id": "rpogtsKNgzsF"
      },
      "source": [
        "import numpy as np\r\n",
        "import pandas as pd\r\n",
        "import random\r\n",
        "import matplotlib.pyplot as plt\r\n",
        "from sklearn.datasets import make_regression\r\n",
        "\r\n",
        "%matplotlib inline"
      ],
      "execution_count": 1,
      "outputs": []
    },
    {
      "cell_type": "code",
      "metadata": {
        "id": "g2Li6aS6b8dV"
      },
      "source": [
        "X, y = make_regression(n_samples=100, n_features=1, tail_strength=0.9, effective_rank=1, n_informative=1, noise=3, bias=50, random_state=1)"
      ],
      "execution_count": 2,
      "outputs": []
    },
    {
      "cell_type": "markdown",
      "metadata": {
        "id": "H6NJoXLmig1b"
      },
      "source": [
        "Una vez que tenemos el conjunto de datos, podemos aumentarlo agregando valores atípicos. Específicamente, agregaremos valores atípicos a las variables de entrada.\r\n",
        "\r\n",
        "Esto se puede hacer cambiando algunas de las variables de entrada para que tengan un valor que sea un factor del número de desviaciones estándar de la media, como 2 a 4. Agregaremos 10 valores atípicos al conjunto de datos."
      ]
    },
    {
      "cell_type": "code",
      "metadata": {
        "id": "jEPB01Bzkv4m"
      },
      "source": [
        "from random import random\r\n",
        "from random import randint\r\n",
        "from random import seed\r\n",
        "from sklearn.datasets import make_regression\r\n",
        "from matplotlib import pyplot\r\n",
        "np.random.seed(1)"
      ],
      "execution_count": 3,
      "outputs": []
    },
    {
      "cell_type": "code",
      "metadata": {
        "id": "RWcs57goglSs"
      },
      "source": [
        "# agregando valores atipicos o outliers\r\n",
        "\r\n",
        "seed(1)\r\n",
        "for i in range(10):\r\n",
        "\tfactor = randint(2, 4)\r\n",
        "\tif random() > 0.5:\r\n",
        "\t\tX[i] += factor * X.std()\r\n",
        "\telse:\r\n",
        "\t\tX[i] -= factor * X.std()\r\n"
      ],
      "execution_count": 4,
      "outputs": []
    },
    {
      "cell_type": "markdown",
      "metadata": {
        "id": "hXsTwR8NltBr"
      },
      "source": [
        "Podemos unir esto en una función que preparará el conjunto de datos. Luego se puede llamar a esta función y podemos trazar el conjunto de datos con los valores de entrada en el eje x y el objetivo o resultado en el eje y.\r\n",
        "\r\n",
        "El ejemplo completo de preparación y trazado del conjunto de datos se enumera a continuación."
      ]
    },
    {
      "cell_type": "code",
      "metadata": {
        "colab": {
          "base_uri": "https://localhost:8080/",
          "height": 282
        },
        "id": "HvVwxlEll2DM",
        "outputId": "60ae244a-aef7-4ca0-b81f-f15c50e9bc8d"
      },
      "source": [
        "# prepare the dataset\r\n",
        "def get_dataset():\r\n",
        "\tX, y = make_regression(n_samples=100, n_features=1, tail_strength=0.9, effective_rank=1, n_informative=1, noise=3, bias=50, random_state=1)\r\n",
        "\t# add some artificial outliers\r\n",
        "\tseed(1)\r\n",
        "\tfor i in range(10):\r\n",
        "\t\tfactor = randint(2, 4)\r\n",
        "\t\tif random() > 0.5:\r\n",
        "\t\t\tX[i] += factor * X.std()\r\n",
        "\t\telse:\r\n",
        "\t\t\tX[i] -= factor * X.std()\r\n",
        "\treturn X, y\r\n",
        " \r\n",
        "# load dataset\r\n",
        "X, y = get_dataset()\r\n",
        "# summarize shape\r\n",
        "print(X.shape, y.shape)\r\n",
        "# scatter plot of input vs output\r\n",
        "pyplot.scatter(X, y)\r\n",
        "pyplot.show()"
      ],
      "execution_count": 5,
      "outputs": [
        {
          "output_type": "stream",
          "text": [
            "(100, 1) (100,)\n"
          ],
          "name": "stdout"
        },
        {
          "output_type": "display_data",
          "data": {
            "image/png": "[encoded data removed]",
            "text/plain": [
              "<Figure size 432x288 with 1 Axes>"
            ]
          },
          "metadata": {
            "tags": [],
            "needs_background": "light"
          }
        }
      ]
    },
    {
      "cell_type": "markdown",
      "metadata": {
        "id": "OBXhGqPemNDq"
      },
      "source": [
        "La ejecución del ejemplo crea el conjunto de datos de regresión sintético y agrega valores atípicos.\r\n",
        "\r\n",
        "Luego, se traza el conjunto de datos y podemos ver claramente la relación lineal en los datos, con ruido estadístico y un número modesto de valores atípicos como puntos alejados de la masa principal de datos.\r\n",
        "\r\n",
        "Ahora que tenemos un conjunto de datos, ajustemos diferentes modelos de regresión en él."
      ]
    },
    {
      "cell_type": "markdown",
      "metadata": {
        "id": "6SaY-73smuV6"
      },
      "source": [
        "# Algoritmos de regresión robustos\r\n",
        "En esta sección, consideraremos diferentes algoritmos de regresión robustos para el conjunto de datos.\r\n",
        "\r\n",
        "# Regresión lineal (no robusta)\r\n",
        "Antes de sumergirnos en algoritmos de regresión robustos, comencemos con la regresión lineal.\r\n",
        "\r\n",
        "Podemos evaluar la regresión lineal mediante la validación cruzada repetida de k-fold en el conjunto de datos de regresión con valores atípicos (**Repeated k-fold cross validation**). Mediremos el error absoluto medio y esto proporcionará un límite inferior en el rendimiento del modelo en esta tarea que podríamos esperar que superen algunos algoritmos de regresión robustos."
      ]
    },
    {
      "cell_type": "code",
      "metadata": {
        "id": "Q3dB6Q44mgU4"
      },
      "source": [
        "# evaluate a model\r\n",
        "def evaluate_model(X, y, model):\r\n",
        "\t# define model evaluation method\r\n",
        "\tcv = RepeatedKFold(n_splits=10, n_repeats=3, random_state=1)\r\n",
        "\t# evaluate model\r\n",
        "\tscores = cross_val_score(model, X, y, scoring='neg_mean_absolute_error', cv=cv, n_jobs=-1)\r\n",
        "\t# force scores to be positive\r\n",
        "\treturn absolute(scores)"
      ],
      "execution_count": 6,
      "outputs": []
    },
    {
      "cell_type": "markdown",
      "metadata": {
        "id": "YCQcfHsDLXhC"
      },
      "source": [
        "También podemos trazar la línea de mejor ajuste del modelo en el conjunto de datos. Para hacer esto, primero ajustamos el modelo en todo el conjunto de datos de entrenamiento, luego creamos un conjunto de datos de entrada que es una cuadrícula en todo el dominio de entrada, hacemos una predicción para cada uno y luego dibujamos una línea para las entradas y salidas predichas.\r\n",
        "\r\n",
        "Esta gráfica muestra cómo el modelo \" ve \" el problema, específicamente la relación entre las variables de entrada y salida. La idea es que la línea esté sesgada por los valores atípicos cuando se usa la regresión lineal."
      ]
    },
    {
      "cell_type": "code",
      "metadata": {
        "id": "8SeXRhoenTxt"
      },
      "source": [
        "\r\n",
        "# plot the dataset and the model's line of best fit\r\n",
        "def plot_best_fit(X, y, model):\r\n",
        "\t# fut the model on all data\r\n",
        "\tmodel.fit(X, y)\r\n",
        "\t# plot the dataset\r\n",
        "\tpyplot.scatter(X, y)\r\n",
        "\t# plot the line of best fit\r\n",
        "\txaxis = arange(X.min(), X.max(), 0.01)\r\n",
        "\tyaxis = model.predict(xaxis.reshape((len(xaxis), 1)))\r\n",
        "\tpyplot.plot(xaxis, yaxis, color='r')\r\n",
        "\t# show the plot\r\n",
        "\tpyplot.title(type(model).__name__)\r\n",
        "\tpyplot.show()"
      ],
      "execution_count": 7,
      "outputs": []
    },
    {
      "cell_type": "markdown",
      "metadata": {
        "id": "IxvGzeycL7Bh"
      },
      "source": [
        "Al unir esto, el ejemplo completo de regresión lineal se enumera a continuación."
      ]
    },
    {
      "cell_type": "code",
      "metadata": {
        "colab": {
          "base_uri": "https://localhost:8080/",
          "height": 298
        },
        "id": "GBAE-bhOoLj9",
        "outputId": "0e901f07-c61c-4d0e-92be-d100ea29f9f6"
      },
      "source": [
        "# linear regression on a dataset with outliers\r\n",
        "from random import random\r\n",
        "from random import randint\r\n",
        "from random import seed\r\n",
        "from numpy import arange\r\n",
        "from numpy import mean\r\n",
        "from numpy import std\r\n",
        "from numpy import absolute\r\n",
        "from sklearn.datasets import make_regression\r\n",
        "from sklearn.linear_model import LinearRegression\r\n",
        "from sklearn.model_selection import cross_val_score\r\n",
        "from sklearn.model_selection import RepeatedKFold\r\n",
        "from matplotlib import pyplot\r\n",
        " \r\n",
        "# prepare the dataset\r\n",
        "def get_dataset():\r\n",
        "\tX, y = make_regression(n_samples=100, n_features=1, tail_strength=0.9, effective_rank=1, n_informative=1, noise=3, bias=50, random_state=1)\r\n",
        "\t# add some artificial outliers\r\n",
        "\tseed(1)\r\n",
        "\tfor i in range(10):\r\n",
        "\t\tfactor = randint(2, 4)\r\n",
        "\t\tif random() > 0.5:\r\n",
        "\t\t\tX[i] += factor * X.std()\r\n",
        "\t\telse:\r\n",
        "\t\t\tX[i] -= factor * X.std()\r\n",
        "\treturn X, y\r\n",
        " \r\n",
        "# evaluate a model\r\n",
        "def evaluate_model(X, y, model):\r\n",
        "\t# define model evaluation method\r\n",
        "\tcv = RepeatedKFold(n_splits=10, n_repeats=3, random_state=1)\r\n",
        "\t# evaluate model\r\n",
        "\tscores = cross_val_score(model, X, y, scoring='neg_mean_absolute_error', cv=cv, n_jobs=-1)\r\n",
        "\t# force scores to be positive\r\n",
        "\treturn absolute(scores)\r\n",
        " \r\n",
        "# plot the dataset and the model's line of best fit\r\n",
        "def plot_best_fit(X, y, model):\r\n",
        "\t# fut the model on all data\r\n",
        "\tmodel.fit(X, y)\r\n",
        "\t# plot the dataset\r\n",
        "\tpyplot.scatter(X, y)\r\n",
        "\t# plot the line of best fit\r\n",
        "\txaxis = arange(X.min(), X.max(), 0.01)\r\n",
        "\tyaxis = model.predict(xaxis.reshape((len(xaxis), 1)))\r\n",
        "\tpyplot.plot(xaxis, yaxis, color='r')\r\n",
        "\t# show the plot\r\n",
        "\tpyplot.title(type(model).__name__)\r\n",
        "\tpyplot.show()\r\n",
        " \r\n",
        "# load dataset\r\n",
        "X, y = get_dataset()\r\n",
        "# define the model\r\n",
        "model = LinearRegression()\r\n",
        "# evaluate model\r\n",
        "results = evaluate_model(X, y, model)\r\n",
        "print('Mean MAE: %.3f (%.3f)' % (mean(results), std(results)))\r\n",
        "# plot the line of best fit\r\n",
        "plot_best_fit(X, y, model)"
      ],
      "execution_count": 8,
      "outputs": [
        {
          "output_type": "stream",
          "text": [
            "Mean MAE: 5.260 (1.149)\n"
          ],
          "name": "stdout"
        },
        {
          "output_type": "display_data",
          "data": {
            "image/png": "[encoded data removed]",
            "text/plain": [
              "<Figure size 432x288 with 1 Axes>"
            ]
          },
          "metadata": {
            "tags": [],
            "needs_background": "light"
          }
        }
      ]
    },
    {
      "cell_type": "markdown",
      "metadata": {
        "id": "JaeIzQAAMHQk"
      },
      "source": [
        "Al ejecutar el ejemplo, primero se informa el MAE medio del modelo en el conjunto de datos.\r\n",
        "\r\n",
        "Podemos ver que la regresión lineal logra un MAE de aproximadamente 5.2 en este conjunto de datos, proporcionando un límite superior de error.\r\n",
        "Mean MAE: 5.260 (1.149)\r\n",
        "A continuación, el conjunto de datos se traza como un diagrama de dispersión que muestra los valores atípicos y esto se superpone con la línea de mejor ajuste del algoritmo de regresión lineal.\r\n",
        "\r\n",
        "En este caso, podemos ver que la línea de mejor ajuste no se alinea con los datos y ha sido sesgada por los valores atípicos. A su vez, esperamos que esto haya provocado que el modelo tenga un rendimiento peor de lo esperado en el conjunto de datos."
      ]
    },
    {
      "cell_type": "markdown",
      "metadata": {
        "id": "DkkosPQrM2Nb"
      },
      "source": [
        "# Regresión de Huber\r\n",
        "La [regresión de Huber](https://en.wikipedia.org/wiki/M-estimator) es un tipo de regresión robusta que es consciente de la posibilidad de valores atípicos en un conjunto de datos y les asigna menos peso que otros ejemplos en el conjunto de datos.\r\n",
        "\r\n",
        "Podemos utilizar la regresión Huber a través de la [HuberRegressor](https://scikit-learn.org/stable/modules/generated/sklearn.linear_model.HuberRegressor.html) clase en scikit-learn. El argumento \"épsilon\" controla lo que se considera un valor atípico, donde los valores más pequeños consideran más datos atípicos y, a su vez, hacen que el modelo sea más robusto a los valores atípicos. El valor predeterminado es 1,35.\r\n",
        "\r\n",
        "El siguiente ejemplo evalúa la regresión de Huber en el conjunto de datos de regresión con valores atípicos, primero evaluando el modelo con validación cruzada repetida y luego trazando la línea de mejor ajuste."
      ]
    },
    {
      "cell_type": "code",
      "metadata": {
        "colab": {
          "base_uri": "https://localhost:8080/",
          "height": 298
        },
        "id": "emsyrrrhNztv",
        "outputId": "053c2103-ed29-4bfb-accd-48ab1e1895de"
      },
      "source": [
        "# huber regression on a dataset with outliers\r\n",
        "from random import random\r\n",
        "from random import randint\r\n",
        "from random import seed\r\n",
        "from numpy import arange\r\n",
        "from numpy import mean\r\n",
        "from numpy import std\r\n",
        "from numpy import absolute\r\n",
        "from sklearn.datasets import make_regression\r\n",
        "from sklearn.linear_model import HuberRegressor\r\n",
        "from sklearn.model_selection import cross_val_score\r\n",
        "from sklearn.model_selection import RepeatedKFold\r\n",
        "from matplotlib import pyplot\r\n",
        " \r\n",
        "# prepare the dataset\r\n",
        "def get_dataset():\r\n",
        "\tX, y = make_regression(n_samples=100, n_features=1, tail_strength=0.9, effective_rank=1, n_informative=1, noise=3, bias=50, random_state=1)\r\n",
        "\t# add some artificial outliers\r\n",
        "\tseed(1)\r\n",
        "\tfor i in range(10):\r\n",
        "\t\tfactor = randint(2, 4)\r\n",
        "\t\tif random() > 0.5:\r\n",
        "\t\t\tX[i] += factor * X.std()\r\n",
        "\t\telse:\r\n",
        "\t\t\tX[i] -= factor * X.std()\r\n",
        "\treturn X, y\r\n",
        " \r\n",
        "# evaluate a model\r\n",
        "def evaluate_model(X, y, model):\r\n",
        "\t# define model evaluation method\r\n",
        "\tcv = RepeatedKFold(n_splits=10, n_repeats=3, random_state=1)\r\n",
        "\t# evaluate model\r\n",
        "\tscores = cross_val_score(model, X, y, scoring='neg_mean_absolute_error', cv=cv, n_jobs=-1)\r\n",
        "\t# force scores to be positive\r\n",
        "\treturn absolute(scores)\r\n",
        " \r\n",
        "# plot the dataset and the model's line of best fit\r\n",
        "def plot_best_fit(X, y, model):\r\n",
        "\t# fut the model on all data\r\n",
        "\tmodel.fit(X, y)\r\n",
        "\t# plot the dataset\r\n",
        "\tpyplot.scatter(X, y)\r\n",
        "\t# plot the line of best fit\r\n",
        "\txaxis = arange(X.min(), X.max(), 0.01)\r\n",
        "\tyaxis = model.predict(xaxis.reshape((len(xaxis), 1)))\r\n",
        "\tpyplot.plot(xaxis, yaxis, color='r')\r\n",
        "\t# show the plot\r\n",
        "\tpyplot.title(type(model).__name__)\r\n",
        "\tpyplot.show()\r\n",
        " \r\n",
        "# load dataset\r\n",
        "X, y = get_dataset()\r\n",
        "# define the model\r\n",
        "model = HuberRegressor()\r\n",
        "# evaluate model\r\n",
        "results = evaluate_model(X, y, model)\r\n",
        "print('Mean MAE: %.3f (%.3f)' % (mean(results), std(results)))\r\n",
        "# plot the line of best fit\r\n",
        "plot_best_fit(X, y, model)"
      ],
      "execution_count": 9,
      "outputs": [
        {
          "output_type": "stream",
          "text": [
            "Mean MAE: 4.435 (1.868)\n"
          ],
          "name": "stdout"
        },
        {
          "output_type": "display_data",
          "data": {
            "image/png": "[encoded data removed]",
            "text/plain": [
              "<Figure size 432x288 with 1 Axes>"
            ]
          },
          "metadata": {
            "tags": [],
            "needs_background": "light"
          }
        }
      ]
    },
    {
      "cell_type": "markdown",
      "metadata": {
        "id": "uJ3A1oxGOAKl"
      },
      "source": [
        "Al ejecutar el ejemplo, primero se informa el MAE medio del modelo en el conjunto de datos.\r\n",
        "\r\n",
        "Podemos ver que la regresión de Huber logra un MAE de aproximadamente 4.435 en este conjunto de datos, superando al modelo de regresión lineal en la sección anterior.\r\n",
        "\r\n",
        "Mean MAE: 4.435 (1.868)\r\n",
        "\r\n",
        "A continuación, el conjunto de datos se traza como un diagrama de dispersión que muestra los valores atípicos y esto se superpone con la línea de mejor ajuste del algoritmo.\r\n",
        "\r\n",
        "En este caso, podemos ver que la línea de mejor ajuste está mejor alineada con el cuerpo principal de los datos y no parece estar obviamente influenciada por los valores atípicos que están presentes."
      ]
    },
    {
      "cell_type": "markdown",
      "metadata": {
        "id": "8Xrkoo6YOTXA"
      },
      "source": [
        "# RANSAC Regression\r\n",
        "[Random Sample Consensus](https://en.wikipedia.org/wiki/Random_sample_consensus), o RANSAC para abreviar, es otro algoritmo de regresión robusto.\r\n",
        "\r\n",
        "RANSAC intenta separar los datos en valores atípicos e inliers y ajusta el modelo a los inliers.\r\n",
        "\r\n",
        "La libreía de scikit-learn proporciona una implementación a través de la clase [RANSACRegressor](https://scikit-learn.org/stable/modules/generated/sklearn.linear_model.RANSACRegressor.html).\r\n",
        "\r\n",
        "El siguiente ejemplo evalúa la regresión RANSAC en el conjunto de datos de regresión con valores atípicos, primero evaluando el modelo con validación cruzada repetida y luego trazando la línea de mejor ajuste."
      ]
    },
    {
      "cell_type": "code",
      "metadata": {
        "colab": {
          "base_uri": "https://localhost:8080/",
          "height": 298
        },
        "id": "xALlL3_rpD1d",
        "outputId": "a6fc4a9f-2235-4dde-c0e3-33bcfaf31ae5"
      },
      "source": [
        "# ransac regression on a dataset with outliers\r\n",
        "from random import random\r\n",
        "from random import randint\r\n",
        "from random import seed\r\n",
        "from numpy import arange\r\n",
        "from numpy import mean\r\n",
        "from numpy import std\r\n",
        "from numpy import absolute\r\n",
        "from sklearn.datasets import make_regression\r\n",
        "from sklearn.linear_model import RANSACRegressor\r\n",
        "from sklearn.model_selection import cross_val_score\r\n",
        "from sklearn.model_selection import RepeatedKFold\r\n",
        "from matplotlib import pyplot\r\n",
        " \r\n",
        "# prepare the dataset\r\n",
        "def get_dataset():\r\n",
        "\tX, y = make_regression(n_samples=100, n_features=1, tail_strength=0.9, effective_rank=1, n_informative=1, noise=3, bias=50, random_state=1)\r\n",
        "\t# add some artificial outliers\r\n",
        "\tseed(1)\r\n",
        "\tfor i in range(10):\r\n",
        "\t\tfactor = randint(2, 4)\r\n",
        "\t\tif random() > 0.5:\r\n",
        "\t\t\tX[i] += factor * X.std()\r\n",
        "\t\telse:\r\n",
        "\t\t\tX[i] -= factor * X.std()\r\n",
        "\treturn X, y\r\n",
        " \r\n",
        "# evaluate a model\r\n",
        "def evaluate_model(X, y, model):\r\n",
        "\t# define model evaluation method\r\n",
        "\tcv = RepeatedKFold(n_splits=10, n_repeats=3, random_state=1)\r\n",
        "\t# evaluate model\r\n",
        "\tscores = cross_val_score(model, X, y, scoring='neg_mean_absolute_error', cv=cv, n_jobs=-1)\r\n",
        "\t# force scores to be positive\r\n",
        "\treturn absolute(scores)\r\n",
        " \r\n",
        "# plot the dataset and the model's line of best fit\r\n",
        "def plot_best_fit(X, y, model):\r\n",
        "\t# fut the model on all data\r\n",
        "\tmodel.fit(X, y)\r\n",
        "\t# plot the dataset\r\n",
        "\tpyplot.scatter(X, y)\r\n",
        "\t# plot the line of best fit\r\n",
        "\txaxis = arange(X.min(), X.max(), 0.01)\r\n",
        "\tyaxis = model.predict(xaxis.reshape((len(xaxis), 1)))\r\n",
        "\tpyplot.plot(xaxis, yaxis, color='r')\r\n",
        "\t# show the plot\r\n",
        "\tpyplot.title(type(model).__name__)\r\n",
        "\tpyplot.show()\r\n",
        " \r\n",
        "# load dataset\r\n",
        "X, y = get_dataset()\r\n",
        "# define the model\r\n",
        "model = RANSACRegressor()\r\n",
        "# evaluate model\r\n",
        "results = evaluate_model(X, y, model)\r\n",
        "print('Mean MAE: %.3f (%.3f)' % (mean(results), std(results)))\r\n",
        "# plot the line of best fit\r\n",
        "plot_best_fit(X, y, model)"
      ],
      "execution_count": 10,
      "outputs": [
        {
          "output_type": "stream",
          "text": [
            "Mean MAE: 4.430 (2.190)\n"
          ],
          "name": "stdout"
        },
        {
          "output_type": "display_data",
          "data": {
            "image/png": "[encoded data removed]",
            "text/plain": [
              "<Figure size 432x288 with 1 Axes>"
            ]
          },
          "metadata": {
            "tags": [],
            "needs_background": "light"
          }
        }
      ]
    },
    {
      "cell_type": "markdown",
      "metadata": {
        "id": "V1ZZVcczPaH_"
      },
      "source": [
        "Al ejecutar el ejemplo, primero se informa el MAE medio del modelo en el conjunto de datos.\r\n",
        "\r\n",
        "Podemos ver que la regresión RANSAC logra un MAE de aproximadamente 4.454 en este conjunto de datos, superando al modelo de regresión lineal, pero quizás no a la regresión de Huber.\r\n",
        "\r\n",
        "Mean MAE: 4.454 (2.165)\r\n",
        "\r\n",
        "A continuación, el conjunto de datos se traza como un diagrama de dispersión que muestra los valores atípicos, y esto se superpone con la línea de mejor ajuste del algoritmo.\r\n",
        "\r\n",
        "En este caso, podemos ver que la línea de mejor ajuste está alineada con el cuerpo principal de los datos, quizás incluso mejor que la gráfica de la regresión de Huber."
      ]
    },
    {
      "cell_type": "markdown",
      "metadata": {
        "id": "Psl7Ca5GP0iZ"
      },
      "source": [
        "# Theil Sen Regression\r\n",
        "[Theil Sen Regression](https://en.wikipedia.org/wiki/Theil%E2%80%93Sen_estimator) implica ajustar múltiples modelos de regresión en subconjuntos de los datos de entrenamiento y combinar los coeficientes al final.\r\n",
        "\r\n",
        "Scikit-learn proporciona una implementación a través de la clase [TheilSenRegressor](https://scikit-learn.org/stable/modules/generated/sklearn.linear_model.TheilSenRegressor.html) .\r\n",
        "\r\n",
        "El siguiente ejemplo evalúa la regresión de Theil Sen en el conjunto de datos de regresión con valores atípicos, primero evaluando el modelo con validación cruzada repetida y luego trazando la línea de mejor ajuste."
      ]
    },
    {
      "cell_type": "code",
      "metadata": {
        "colab": {
          "base_uri": "https://localhost:8080/",
          "height": 298
        },
        "id": "BlaeBWTcpcaZ",
        "outputId": "0b3614d8-49eb-4f90-8c9a-d6d6b8aa54c0"
      },
      "source": [
        "# theilsen regression on a dataset with outliers\r\n",
        "from random import random\r\n",
        "from random import randint\r\n",
        "from random import seed\r\n",
        "from numpy import arange\r\n",
        "from numpy import mean\r\n",
        "from numpy import std\r\n",
        "from numpy import absolute\r\n",
        "from sklearn.datasets import make_regression\r\n",
        "from sklearn.linear_model import TheilSenRegressor\r\n",
        "from sklearn.model_selection import cross_val_score\r\n",
        "from sklearn.model_selection import RepeatedKFold\r\n",
        "from matplotlib import pyplot\r\n",
        " \r\n",
        "# prepare the dataset\r\n",
        "def get_dataset():\r\n",
        "\tX, y = make_regression(n_samples=100, n_features=1, tail_strength=0.9, effective_rank=1, n_informative=1, noise=3, bias=50, random_state=1)\r\n",
        "\t# add some artificial outliers\r\n",
        "\tseed(1)\r\n",
        "\tfor i in range(10):\r\n",
        "\t\tfactor = randint(2, 4)\r\n",
        "\t\tif random() > 0.5:\r\n",
        "\t\t\tX[i] += factor * X.std()\r\n",
        "\t\telse:\r\n",
        "\t\t\tX[i] -= factor * X.std()\r\n",
        "\treturn X, y\r\n",
        " \r\n",
        "# evaluate a model\r\n",
        "def evaluate_model(X, y, model):\r\n",
        "\t# define model evaluation method\r\n",
        "\tcv = RepeatedKFold(n_splits=10, n_repeats=3, random_state=1)\r\n",
        "\t# evaluate model\r\n",
        "\tscores = cross_val_score(model, X, y, scoring='neg_mean_absolute_error', cv=cv, n_jobs=-1)\r\n",
        "\t# force scores to be positive\r\n",
        "\treturn absolute(scores)\r\n",
        " \r\n",
        "# plot the dataset and the model's line of best fit\r\n",
        "def plot_best_fit(X, y, model):\r\n",
        "\t# fut the model on all data\r\n",
        "\tmodel.fit(X, y)\r\n",
        "\t# plot the dataset\r\n",
        "\tpyplot.scatter(X, y)\r\n",
        "\t# plot the line of best fit\r\n",
        "\txaxis = arange(X.min(), X.max(), 0.01)\r\n",
        "\tyaxis = model.predict(xaxis.reshape((len(xaxis), 1)))\r\n",
        "\tpyplot.plot(xaxis, yaxis, color='r')\r\n",
        "\t# show the plot\r\n",
        "\tpyplot.title(type(model).__name__)\r\n",
        "\tpyplot.show()\r\n",
        " \r\n",
        "# load dataset\r\n",
        "X, y = get_dataset()\r\n",
        "# define the model\r\n",
        "model = TheilSenRegressor()\r\n",
        "# evaluate model\r\n",
        "results = evaluate_model(X, y, model)\r\n",
        "print('Mean MAE: %.3f (%.3f)' % (mean(results), std(results)))\r\n",
        "# plot the line of best fit\r\n",
        "plot_best_fit(X, y, model)"
      ],
      "execution_count": 11,
      "outputs": [
        {
          "output_type": "stream",
          "text": [
            "Mean MAE: 4.371 (1.961)\n"
          ],
          "name": "stdout"
        },
        {
          "output_type": "display_data",
          "data": {
            "image/png": "[encoded data removed]",
            "text/plain": [
              "<Figure size 432x288 with 1 Axes>"
            ]
          },
          "metadata": {
            "tags": [],
            "needs_background": "light"
          }
        }
      ]
    },
    {
      "cell_type": "markdown",
      "metadata": {
        "id": "195P9dSkQjsQ"
      },
      "source": [
        "Al ejecutar el ejemplo, primero se informa el MAE medio del modelo en el conjunto de datos.\r\n",
        "\r\n",
        "Podemos ver que la regresión de Theil Sen alcanza un MAE de aproximadamente 4,371 en este conjunto de datos, superando al modelo de regresión lineal, así como a la regresión RANSAC y Huber.\r\n",
        "\r\n",
        "Mean MAE: 4.371 (1.961)\r\n",
        "A continuación, el conjunto de datos se traza como un diagrama de dispersión que muestra los valores atípicos, y esto se superpone con la línea de mejor ajuste del algoritmo.\r\n",
        "\r\n",
        "En este caso, podemos ver que la línea de mejor ajuste está alineada con el cuerpo principal de los datos."
      ]
    },
    {
      "cell_type": "markdown",
      "metadata": {
        "id": "q8JFtaEMQsr6"
      },
      "source": [
        "# Comparar algoritmos de regresión robustos\r\n",
        "Ahora que estamos familiarizados con algunos algoritmos de regresión robustos populares y cómo usarlos, podemos ver cómo podemos compararlos directamente.\r\n",
        "\r\n",
        "Puede ser útil ejecutar un experimento para comparar directamente los algoritmos de regresión robustos en el mismo conjunto de datos. Podemos comparar el rendimiento medio de cada método y, de forma más útil, utilizar herramientas como un diagrama de caja y bigotes para comparar la distribución de puntuaciones en los pliegues repetidos de validación cruzada.\r\n",
        "\r\n",
        "El ejemplo completo se enumera a continuación."
      ]
    },
    {
      "cell_type": "code",
      "metadata": {
        "colab": {
          "base_uri": "https://localhost:8080/",
          "height": 333
        },
        "id": "ybCBfY0fQnbJ",
        "outputId": "f60cdf8d-d7a6-4000-e015-786cf89f2f71"
      },
      "source": [
        "# compare robust regression algorithms on a regression dataset with outliers\r\n",
        "from random import random\r\n",
        "from random import randint\r\n",
        "from random import seed\r\n",
        "from numpy import mean\r\n",
        "from numpy import std\r\n",
        "from numpy import absolute\r\n",
        "from sklearn.datasets import make_regression\r\n",
        "from sklearn.model_selection import cross_val_score\r\n",
        "from sklearn.model_selection import RepeatedKFold\r\n",
        "from sklearn.linear_model import LinearRegression\r\n",
        "from sklearn.linear_model import HuberRegressor\r\n",
        "from sklearn.linear_model import RANSACRegressor\r\n",
        "from sklearn.linear_model import TheilSenRegressor\r\n",
        "from matplotlib import pyplot\r\n",
        " \r\n",
        "# prepare the dataset\r\n",
        "def get_dataset():\r\n",
        "\tX, y = make_regression(n_samples=100, n_features=1, tail_strength=0.9, effective_rank=1, n_informative=1, noise=3, bias=50, random_state=1)\r\n",
        "\t# add some artificial outliers\r\n",
        "\tseed(1)\r\n",
        "\tfor i in range(10):\r\n",
        "\t\tfactor = randint(2, 4)\r\n",
        "\t\tif random() > 0.5:\r\n",
        "\t\t\tX[i] += factor * X.std()\r\n",
        "\t\telse:\r\n",
        "\t\t\tX[i] -= factor * X.std()\r\n",
        "\treturn X, y\r\n",
        " \r\n",
        "# dictionary of model names and model objects\r\n",
        "def get_models():\r\n",
        "\tmodels = dict()\r\n",
        "\tmodels['Linear'] = LinearRegression()\r\n",
        "\tmodels['Huber'] = HuberRegressor()\r\n",
        "\tmodels['RANSAC'] = RANSACRegressor()\r\n",
        "\tmodels['TheilSen'] = TheilSenRegressor()\r\n",
        "\treturn models\r\n",
        " \r\n",
        "# evaluate a model\r\n",
        "def evalute_model(X, y, model, name):\r\n",
        "\t# define model evaluation method\r\n",
        "\tcv = RepeatedKFold(n_splits=10, n_repeats=3, random_state=1)\r\n",
        "\t# evaluate model\r\n",
        "\tscores = cross_val_score(model, X, y, scoring='neg_mean_absolute_error', cv=cv, n_jobs=-1)\r\n",
        "\t# force scores to be positive\r\n",
        "\tscores = absolute(scores)\r\n",
        "\treturn scores\r\n",
        " \r\n",
        "# load the dataset\r\n",
        "X, y = get_dataset()\r\n",
        "# retrieve models\r\n",
        "models = get_models()\r\n",
        "results = dict()\r\n",
        "for name, model in models.items():\r\n",
        "\t# evaluate the model\r\n",
        "\tresults[name] = evalute_model(X, y, model, name)\r\n",
        "\t# summarize progress\r\n",
        "\tprint('>%s %.3f (%.3f)' % (name, mean(results[name]), std(results[name])))\r\n",
        "# plot model performance for comparison\r\n",
        "pyplot.boxplot(results.values(), labels=results.keys(), showmeans=True)\r\n",
        "pyplot.show()"
      ],
      "execution_count": 12,
      "outputs": [
        {
          "output_type": "stream",
          "text": [
            ">Linear 5.260 (1.149)\n",
            ">Huber 4.435 (1.868)\n",
            ">RANSAC 4.454 (2.213)\n",
            ">TheilSen 4.371 (1.961)\n"
          ],
          "name": "stdout"
        },
        {
          "output_type": "display_data",
          "data": {
            "image/png": "[encoded data removed]",
            "text/plain": [
              "<Figure size 432x288 with 1 Axes>"
            ]
          },
          "metadata": {
            "tags": [],
            "needs_background": "light"
          }
        }
      ]
    },
    {
      "cell_type": "markdown",
      "metadata": {
        "id": "RKUawTIZRG6g"
      },
      "source": [
        "La ejecución del ejemplo evalúa cada modelo por turno, informando las puntuaciones de alcance MAE de media y desviación estándar.\r\n",
        "\r\n",
        "Nota: sus resultados específicos diferirán dada la naturaleza estocástica de los algoritmos de aprendizaje y el procedimiento de evaluación. Intente ejecutar el ejemplo varias veces.\r\n",
        "\r\n",
        "Podemos ver algunas diferencias menores entre estas puntuaciones y las informadas en la sección anterior, aunque las diferencias pueden o no ser estadísticamente significativas. El patrón general de los métodos de regresión robustos que funcionan mejor que la regresión lineal se mantiene, TheilSen logra un mejor rendimiento que los otros métodos.\r\n",
        "\r\n",
        "1. >Linear 5.260 (1.149)\r\n",
        "2. >Huber 4.435 (1.868)\r\n",
        "3. >RANSAC 4.405 (2.206)\r\n",
        "4. >TheilSen 4.371 (1.961)\r\n",
        "\r\n",
        "Se crea una gráfica que muestra una gráfica de caja y bigotes que resume la distribución de resultados para cada algoritmo evaluado.\r\n",
        "\r\n",
        "Podemos ver claramente las distribuciones de los algoritmos de regresión robustos sentados y extendiéndose por debajo del algoritmo de regresión lineal.\r\n",
        "\r\n"
      ]
    },
    {
      "cell_type": "markdown",
      "metadata": {
        "id": "dYTMCJwxRgyx"
      },
      "source": [
        "También puede ser interesante comparar algoritmos de regresión robustos basados ​​en un gráfico de su línea de mejor ajuste.\r\n",
        "\r\n",
        "El siguiente ejemplo se ajusta a cada algoritmo de regresión robusto y traza su línea de mejor ajuste en el mismo gráfico en el contexto de un gráfico de dispersión de todo el conjunto de datos de entrenamiento."
      ]
    },
    {
      "cell_type": "code",
      "metadata": {
        "colab": {
          "base_uri": "https://localhost:8080/",
          "height": 281
        },
        "id": "Mflp3diERaEm",
        "outputId": "d0534a04-4a34-4f04-be2e-f1e08e7a1edf"
      },
      "source": [
        "# plot line of best for multiple robust regression algorithms\r\n",
        "from random import random\r\n",
        "from random import randint\r\n",
        "from random import seed\r\n",
        "from numpy import arange\r\n",
        "from sklearn.datasets import make_regression\r\n",
        "from sklearn.linear_model import LinearRegression\r\n",
        "from sklearn.linear_model import HuberRegressor\r\n",
        "from sklearn.linear_model import RANSACRegressor\r\n",
        "from sklearn.linear_model import TheilSenRegressor\r\n",
        "from matplotlib import pyplot\r\n",
        " \r\n",
        "# prepare the dataset\r\n",
        "def get_dataset():\r\n",
        "\tX, y = make_regression(n_samples=100, n_features=1, tail_strength=0.9, effective_rank=1, n_informative=1, noise=3, bias=50, random_state=1)\r\n",
        "\t# add some artificial outliers\r\n",
        "\tseed(1)\r\n",
        "\tfor i in range(10):\r\n",
        "\t\tfactor = randint(2, 4)\r\n",
        "\t\tif random() > 0.5:\r\n",
        "\t\t\tX[i] += factor * X.std()\r\n",
        "\t\telse:\r\n",
        "\t\t\tX[i] -= factor * X.std()\r\n",
        "\treturn X, y\r\n",
        " \r\n",
        "# dictionary of model names and model objects\r\n",
        "def get_models():\r\n",
        "\tmodels = list()\r\n",
        "\tmodels.append(LinearRegression())\r\n",
        "\tmodels.append(HuberRegressor())\r\n",
        "\tmodels.append(RANSACRegressor())\r\n",
        "\tmodels.append(TheilSenRegressor())\r\n",
        "\treturn models\r\n",
        " \r\n",
        "# plot the dataset and the model's line of best fit\r\n",
        "def plot_best_fit(X, y, xaxis, model):\r\n",
        "\t# fit the model on all data\r\n",
        "\tmodel.fit(X, y)\r\n",
        "\t# calculate outputs for grid across the domain\r\n",
        "\tyaxis = model.predict(xaxis.reshape((len(xaxis), 1)))\r\n",
        "\t# plot the line of best fit\r\n",
        "\tpyplot.plot(xaxis, yaxis, label=type(model).__name__)\r\n",
        " \r\n",
        "# load the dataset\r\n",
        "X, y = get_dataset()\r\n",
        "# define a uniform grid across the input domain\r\n",
        "xaxis = arange(X.min(), X.max(), 0.01)\r\n",
        "for model in get_models():\r\n",
        "\t# plot the line of best fit\r\n",
        "\tplot_best_fit(X, y, xaxis, model)\r\n",
        "# plot the dataset\r\n",
        "pyplot.scatter(X, y)\r\n",
        "# show the plot\r\n",
        "pyplot.title('Robust Regression')\r\n",
        "pyplot.legend()\r\n",
        "pyplot.show()"
      ],
      "execution_count": 13,
      "outputs": [
        {
          "output_type": "display_data",
          "data": {
            "image/png": "[encoded data removed]",
            "text/plain": [
              "<Figure size 432x288 with 1 Axes>"
            ]
          },
          "metadata": {
            "tags": [],
            "needs_background": "light"
          }
        }
      ]
    },
    {
      "cell_type": "markdown",
      "metadata": {
        "id": "pAaEoTPiRvYf"
      },
      "source": [
        "Al ejecutar el ejemplo, se crea un gráfico que muestra el conjunto de datos como un gráfico de dispersión y la línea de mejor ajuste para cada algoritmo.\r\n",
        "\r\n",
        "Podemos ver claramente la línea fuera del eje para el algoritmo de regresión lineal y las líneas mucho mejores para los algoritmos de regresión robustos que siguen el cuerpo principal de los datos."
      ]
    },
    {
      "cell_type": "markdown",
      "metadata": {
        "id": "U7jUhaNNSAi0"
      },
      "source": [
        "# Otras lecturas \r\n",
        "Esta sección proporciona más recursos sobre el tema si está buscando profundizar.\r\n",
        "# APIs\r\n",
        "* [Modelos lineales, scikit-learn](https://scikit-learn.org/stable/modules/linear_model.html).\r\n",
        "* [API sklearn.datasets.make_regression](https://scikit-learn.org/stable/modules/generated/sklearn.datasets.make_regression.html).\r\n",
        "* [API sklearn.linear_model.LinearRegression](https://scikit-learn.org/stable/modules/generated/sklearn.linear_model.LinearRegression.html).\r\n",
        "* [API sklearn.linear_model.HuberRegressor](https://scikit-learn.org/stable/modules/generated/sklearn.linear_model.HuberRegressor.html).\r\n",
        "* [klearn.linear_model.RANSACRegressor API](https://scikit-learn.org/stable/modules/generated/sklearn.linear_model.RANSACRegressor.html).\r\n",
        "* [sklearn.linear_model.TheilSenRegressor API](https://scikit-learn.org/stable/modules/generated/sklearn.linear_model.TheilSenRegressor.html) .\r\n",
        "# Artículos\r\n",
        "Regresión robusta, Wikipedia .\r\n",
        "Estimador M, Wikipedia .\r\n",
        "Consenso de muestra aleatoria, Wikipedia .\r\n",
        "Estimador de Theil - Sen, Wikipedia\r\n",
        "# Resumen\r\n",
        "En este tutorial, descubrió algoritmos de regresión sólidos para el aprendizaje automático.\r\n",
        "\r\n",
        "Específicamente, aprendiste:\r\n",
        "\r\n",
        "* Se pueden usar algoritmos de regresión robustos para datos con valores atípicos en los valores de entrada o de destino.\r\n",
        "* Cómo evaluar algoritmos de regresión robustos para una tarea de modelado predictivo de regresión.\r\n",
        "* Cómo comparar algoritmos de regresión robustos usando su línea de mejor ajuste en el conjunto de datos.\r\n",
        "\r\n",
        "Espero que sea de su agrado\r\n",
        "\r\n",
        "\r\n"
      ]
    },
    {
      "cell_type": "code",
      "metadata": {
        "id": "C8fSMzF3RwRB"
      },
      "source": [
        ""
      ],
      "execution_count": null,
      "outputs": []
    }
  ]
}