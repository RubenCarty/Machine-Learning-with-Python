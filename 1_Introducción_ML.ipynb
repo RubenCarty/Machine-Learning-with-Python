{
  "cells": [
    {
      "cell_type": "markdown",
      "metadata": {
        "id": "view-in-github",
        "colab_type": "text"
      },
      "source": [
        "<a href=\"https://colab.research.google.com/github/RubenMcCarty/Machine-Learning-with-Python/blob/master/1_Introduccio%CC%81n_ML.ipynb\" target=\"_parent\"><img src=\"https://colab.research.google.com/assets/colab-badge.svg\" alt=\"Open In Colab\"/></a>"
      ]
    },
    {
      "cell_type": "markdown",
      "metadata": {
        "id": "7qclsB-sxngt"
      },
      "source": [
        "# Introducción al *Machine Learning*\n",
        "## [M.Sc. Ruben Quispe](https://www.linkedin.com/in/ruben-quispe-l/)"
      ]
    },
    {
      "cell_type": "markdown",
      "metadata": {
        "id": "HlajFHqIxngt"
      },
      "source": [
        "En esta clase arrancamos una nueva serie en la que hablaremos sobre *Machine Learning* (ML).  *Deep Learning* (DL) o aprendizaje profundo. Existen matices y diferencias entre ambos, de las cuales hablaremos en este CLASE. La principal: los algoritmos. Si bien el DL gira entorno al uso de redes neuronales (profundas), el ML engloba muchísimos más algoritmos utilizados durante décadas. Este serie va sobre esos algoritmos y todo lo que podemos hacer con ellos. ¡No toda la Inteligencia Artificial (IA) se basa en redes neuronales!"
      ]
    },
    {
      "cell_type": "markdown",
      "metadata": {
        "id": "colHVB01xngt"
      },
      "source": [
        "## IA vs ML vs DL"
      ]
    },
    {
      "cell_type": "markdown",
      "metadata": {
        "id": "iUz0vedvxngu"
      },
      "source": [
        "Definir la IA no es tarea fácil. Aquí algunos ejemplos.\n",
        "\n",
        "> [La Inteligencia Artificial es el] ámbito de estudio que confiere a los ordenadores la capacidad de aprender sin ser programados explícitamente (Arthur Samuel, 1959).\n",
        "\n",
        "\n",
        "> Un programa aprende de la experiencia E con respecto a la tarea T y medida de éxito P si su desempeño en T, medido por P, mejora con la experiencia E (Tom Michell, 1997).\n"
      ]
    },
    {
      "cell_type": "markdown",
      "metadata": {
        "id": "VOioyQKqxngu"
      },
      "source": [
        "La IA es un campo de la ciencia cuyo origen precedo incluso a la invención de los ordenadores. Desde entonces, multitud de técnicas y algoritmos han sido desarrollados, desde el Perceptrón hasta las redes neuronales de hoy en día. \n",
        "\n",
        "![](https://github.com/juansensio/blog/blob/master/083_intro_ml/pics/ia_ml_dl.png?raw=1)\n",
        "\n",
        "Dentro de la IA encontramos una familia de algoritmos conocida como *Machine Learning*. Estos algoritmos se caracterizan por ser capaces de aprender a llevar a cabo una tarea específica a partir de ejemplos. Dentro de este grupo encontramos una subcategoría de algoritmos conocida como *Deep Learning*, que no solo es capaz de aprender a partir de datos sino que además es capaz de hacerlo con mínima intervención humana (*feature engineering*).\n",
        "\n",
        "![](https://github.com/juansensio/blog/blob/master/083_intro_ml/pics/fe.png?raw=1)"
      ]
    },
    {
      "cell_type": "markdown",
      "metadata": {
        "id": "9vZeGlE0xngu"
      },
      "source": [
        "## ¿Qué es el ML?"
      ]
    },
    {
      "cell_type": "markdown",
      "metadata": {
        "id": "cG4qbLTbxngu"
      },
      "source": [
        "El uso del ML es de especial utilidad en aquellas tareas en las que la programación \"tradicional\" (o software 1.0) falla, principalmente debido a la imposibilidad de desarrollar una serie de instrucciones capaz de resolver el problema. También es recomendable su uso en entornos cambiantes o a la hora de extraer información de grandes cantidades de datos. \n",
        "\n",
        "![](https://github.com/juansensio/blog/blob/master/083_intro_ml/pics/s20.png?raw=1)\n",
        "\n",
        "Esto es debido a que, mientras que en el \"software 1.0\" el programador debe crear un programa (serie de instrucciones) para llevar a cabo una tarea, en el \"software 2.0\" (otro término atribuido al ML) será el mismo algoritmo el que aprenderá por sí mismo a resolver un problema a base de ejemplos. \n",
        "\n",
        "|   | Programación tradicional  | ML  | \n",
        "|---|---|---|\n",
        "| Programa  | Código escrito por el programador en un lenguaje  | Los datos  | \n",
        "| Compilación  | Traducción del programa a código máquina  | El modelo (y receta de entrenamiento)  | \n",
        "| Binario  | Ejecutable que el ordenador entiende  | Modelo entrando  | "
      ]
    },
    {
      "cell_type": "markdown",
      "metadata": {
        "id": "yLnO4ecpxngv"
      },
      "source": [
        "## Tipos de ML"
      ]
    },
    {
      "cell_type": "markdown",
      "metadata": {
        "id": "dF5IIHQfxngv"
      },
      "source": [
        "Podemos clasificar los diferentes algoritmos de ML en función de:\n",
        "\n",
        "1. El proceso de entrenamiento: supervisado, no supervisado (o semi-supervisado) y aprendizaje por refuerzo.\n",
        "2. Su forma de aprender: en modo *batch* o *online*. \n",
        "3. Su funcionamiento: basado en modelos o instancias."
      ]
    },
    {
      "cell_type": "markdown",
      "metadata": {
        "id": "F2yav9Czxngv"
      },
      "source": [
        "## Tareas de ML"
      ]
    },
    {
      "cell_type": "markdown",
      "metadata": {
        "id": "7CuFnuCyxngv"
      },
      "source": [
        "Las principales tareas que podemos llevar a cabo con ML son: clasificación, regresión y *clustering*. Para cada tarea, numerosos algoritmos (que iremos aprendiendo en esta serie) existen.\n",
        "\n",
        "![](https://github.com/juansensio/blog/blob/master/083_intro_ml/pics/tareas.png?raw=1)"
      ]
    },
    {
      "cell_type": "markdown",
      "metadata": {
        "id": "3mVoZjNzxngw"
      },
      "source": [
        "## Los datos"
      ]
    },
    {
      "cell_type": "markdown",
      "metadata": {
        "id": "JOVE9b_ixngw"
      },
      "source": [
        "El ML gira entorno a los datos. Como hemos visto anteriormente son la parte fundamental y dos conjuntos de datos distintos nos darán resultados muy diferentes aunque usemos el mismo modelo y receta de entrenamiento. Así pues, un buen entendimiento de los datos y cómo trabajar con ellos es crucial para tener éxito en aplicaciones de ML. De entre todas las cuestiones que hay que tener en cuenta, la separación de datos en conjuntos de entrenamiento, validación y test es quizás la más importante.\n",
        "\n",
        "![](https://github.com/juansensio/blog/blob/master/083_intro_ml/pics/datos.png?raw=1)\n",
        "\n",
        "Así pues usaremos el conjunto de entrenamiento para entrenar nuestros modelos, el de validación para optimizar los hiperparámetros y el de test para generar las métricas finales. "
      ]
    },
    {
      "cell_type": "markdown",
      "metadata": {
        "id": "8ZSvJ2dexngw"
      },
      "source": [
        "## Principales problemas del ML"
      ]
    },
    {
      "cell_type": "markdown",
      "metadata": {
        "id": "Ev-zBBeixngw"
      },
      "source": [
        "El desarrollo de aplicaciones de ML no es fácil, y es que existen multitud de problemas a los que nos podemos enfrentar. Algunos ejemplos son: \n",
        "\n",
        "- Cantidad insuficiente de datos\n",
        "- Datos no representativos\n",
        "- Datos de baja calidad\n",
        "- Características en los datos irrelevantes\n",
        "- *Overfitting* (SOBREAJUSTE el modelo es exato E=0) o *underfitting* (Desajuste,malo modelo E=1)"
      ]
    },
    {
      "cell_type": "markdown",
      "metadata": {
        "id": "H-QavltQxngw"
      },
      "source": [
        "## Ejemplo"
      ]
    },
    {
      "cell_type": "markdown",
      "metadata": {
        "id": "tc0j99zexngw"
      },
      "source": [
        "Vamos a cerrar esta breve introducción al ML con un sencillo ejemplo. Imaginemos que queremos descubrir si el dinero hace feliz a la gente. Para ello, nos descargamos un archivo con una lista de varios países, acompañada de sus PIB medio y un índice de satisfacción ciudadana."
      ]
    },
    {
      "cell_type": "code",
      "execution_count": null,
      "metadata": {
        "ExecuteTime": {
          "end_time": "2022-01-15T12:26:17.185924Z",
          "start_time": "2022-01-15T12:26:16.081815Z"
        },
        "id": "tyk8uqGixngw",
        "outputId": "9d0db8a6-1aaa-40fe-df91-d83e7c4a4fa6"
      },
      "outputs": [
        {
          "name": "stdout",
          "output_type": "stream",
          "text": [
            "zsh:1: command not found: wget\r\n"
          ]
        }
      ],
      "source": [
        "# download data\n",
        "\n",
        "!wget https://mymldatasets.s3.eu-de.cloud-object-storage.appdomain.cloud/country_stats.csv"
      ]
    },
    {
      "cell_type": "code",
      "execution_count": null,
      "metadata": {
        "id": "unVOw-_nmEzL",
        "outputId": "4b47d981-e5b2-462d-9673-518c96832a71"
      },
      "outputs": [
        {
          "name": "stdout",
          "output_type": "stream",
          "text": [
            "zsh:1: command not found: brew\r\n"
          ]
        }
      ],
      "source": [
        "!brew install wget"
      ]
    },
    {
      "cell_type": "code",
      "execution_count": null,
      "metadata": {
        "ExecuteTime": {
          "end_time": "2022-01-15T12:26:17.375054Z",
          "start_time": "2022-01-15T12:26:17.189909Z"
        },
        "id": "Kjk4cnj-xngx",
        "outputId": "28105b3b-4575-4dea-f4d4-9eea8c09e5d3"
      },
      "outputs": [
        {
          "data": {
            "text/html": [
              "<div>\n",
              "<style scoped>\n",
              "    .dataframe tbody tr th:only-of-type {\n",
              "        vertical-align: middle;\n",
              "    }\n",
              "\n",
              "    .dataframe tbody tr th {\n",
              "        vertical-align: top;\n",
              "    }\n",
              "\n",
              "    .dataframe thead th {\n",
              "        text-align: right;\n",
              "    }\n",
              "</style>\n",
              "<table border=\"1\" class=\"dataframe\">\n",
              "  <thead>\n",
              "    <tr style=\"text-align: right;\">\n",
              "      <th></th>\n",
              "      <th>GDP per capita</th>\n",
              "      <th>Life satisfaction</th>\n",
              "    </tr>\n",
              "    <tr>\n",
              "      <th>Country</th>\n",
              "      <th></th>\n",
              "      <th></th>\n",
              "    </tr>\n",
              "  </thead>\n",
              "  <tbody>\n",
              "    <tr>\n",
              "      <th>Russia</th>\n",
              "      <td>9054.914</td>\n",
              "      <td>6.0</td>\n",
              "    </tr>\n",
              "    <tr>\n",
              "      <th>Turkey</th>\n",
              "      <td>9437.372</td>\n",
              "      <td>5.6</td>\n",
              "    </tr>\n",
              "    <tr>\n",
              "      <th>Hungary</th>\n",
              "      <td>12239.894</td>\n",
              "      <td>4.9</td>\n",
              "    </tr>\n",
              "    <tr>\n",
              "      <th>Poland</th>\n",
              "      <td>12495.334</td>\n",
              "      <td>5.8</td>\n",
              "    </tr>\n",
              "    <tr>\n",
              "      <th>Slovak Republic</th>\n",
              "      <td>15991.736</td>\n",
              "      <td>6.1</td>\n",
              "    </tr>\n",
              "    <tr>\n",
              "      <th>Estonia</th>\n",
              "      <td>17288.083</td>\n",
              "      <td>5.6</td>\n",
              "    </tr>\n",
              "    <tr>\n",
              "      <th>Greece</th>\n",
              "      <td>18064.288</td>\n",
              "      <td>4.8</td>\n",
              "    </tr>\n",
              "    <tr>\n",
              "      <th>Portugal</th>\n",
              "      <td>19121.592</td>\n",
              "      <td>5.1</td>\n",
              "    </tr>\n",
              "    <tr>\n",
              "      <th>Slovenia</th>\n",
              "      <td>20732.482</td>\n",
              "      <td>5.7</td>\n",
              "    </tr>\n",
              "    <tr>\n",
              "      <th>Spain</th>\n",
              "      <td>25864.721</td>\n",
              "      <td>6.5</td>\n",
              "    </tr>\n",
              "    <tr>\n",
              "      <th>Korea</th>\n",
              "      <td>27195.197</td>\n",
              "      <td>5.8</td>\n",
              "    </tr>\n",
              "    <tr>\n",
              "      <th>Italy</th>\n",
              "      <td>29866.581</td>\n",
              "      <td>6.0</td>\n",
              "    </tr>\n",
              "    <tr>\n",
              "      <th>Japan</th>\n",
              "      <td>32485.545</td>\n",
              "      <td>5.9</td>\n",
              "    </tr>\n",
              "    <tr>\n",
              "      <th>Israel</th>\n",
              "      <td>35343.336</td>\n",
              "      <td>7.4</td>\n",
              "    </tr>\n",
              "    <tr>\n",
              "      <th>New Zealand</th>\n",
              "      <td>37044.891</td>\n",
              "      <td>7.3</td>\n",
              "    </tr>\n",
              "    <tr>\n",
              "      <th>France</th>\n",
              "      <td>37675.006</td>\n",
              "      <td>6.5</td>\n",
              "    </tr>\n",
              "    <tr>\n",
              "      <th>Belgium</th>\n",
              "      <td>40106.632</td>\n",
              "      <td>6.9</td>\n",
              "    </tr>\n",
              "    <tr>\n",
              "      <th>Germany</th>\n",
              "      <td>40996.511</td>\n",
              "      <td>7.0</td>\n",
              "    </tr>\n",
              "    <tr>\n",
              "      <th>Finland</th>\n",
              "      <td>41973.988</td>\n",
              "      <td>7.4</td>\n",
              "    </tr>\n",
              "    <tr>\n",
              "      <th>Canada</th>\n",
              "      <td>43331.961</td>\n",
              "      <td>7.3</td>\n",
              "    </tr>\n",
              "    <tr>\n",
              "      <th>Netherlands</th>\n",
              "      <td>43603.115</td>\n",
              "      <td>7.3</td>\n",
              "    </tr>\n",
              "    <tr>\n",
              "      <th>Austria</th>\n",
              "      <td>43724.031</td>\n",
              "      <td>6.9</td>\n",
              "    </tr>\n",
              "    <tr>\n",
              "      <th>United Kingdom</th>\n",
              "      <td>43770.688</td>\n",
              "      <td>6.8</td>\n",
              "    </tr>\n",
              "    <tr>\n",
              "      <th>Sweden</th>\n",
              "      <td>49866.266</td>\n",
              "      <td>7.2</td>\n",
              "    </tr>\n",
              "    <tr>\n",
              "      <th>Iceland</th>\n",
              "      <td>50854.583</td>\n",
              "      <td>7.5</td>\n",
              "    </tr>\n",
              "    <tr>\n",
              "      <th>Australia</th>\n",
              "      <td>50961.865</td>\n",
              "      <td>7.3</td>\n",
              "    </tr>\n",
              "    <tr>\n",
              "      <th>Ireland</th>\n",
              "      <td>51350.744</td>\n",
              "      <td>7.0</td>\n",
              "    </tr>\n",
              "    <tr>\n",
              "      <th>Denmark</th>\n",
              "      <td>52114.165</td>\n",
              "      <td>7.5</td>\n",
              "    </tr>\n",
              "    <tr>\n",
              "      <th>United States</th>\n",
              "      <td>55805.204</td>\n",
              "      <td>7.2</td>\n",
              "    </tr>\n",
              "  </tbody>\n",
              "</table>\n",
              "</div>"
            ],
            "text/plain": [
              "                 GDP per capita  Life satisfaction\n",
              "Country                                           \n",
              "Russia                 9054.914                6.0\n",
              "Turkey                 9437.372                5.6\n",
              "Hungary               12239.894                4.9\n",
              "Poland                12495.334                5.8\n",
              "Slovak Republic       15991.736                6.1\n",
              "Estonia               17288.083                5.6\n",
              "Greece                18064.288                4.8\n",
              "Portugal              19121.592                5.1\n",
              "Slovenia              20732.482                5.7\n",
              "Spain                 25864.721                6.5\n",
              "Korea                 27195.197                5.8\n",
              "Italy                 29866.581                6.0\n",
              "Japan                 32485.545                5.9\n",
              "Israel                35343.336                7.4\n",
              "New Zealand           37044.891                7.3\n",
              "France                37675.006                6.5\n",
              "Belgium               40106.632                6.9\n",
              "Germany               40996.511                7.0\n",
              "Finland               41973.988                7.4\n",
              "Canada                43331.961                7.3\n",
              "Netherlands           43603.115                7.3\n",
              "Austria               43724.031                6.9\n",
              "United Kingdom        43770.688                6.8\n",
              "Sweden                49866.266                7.2\n",
              "Iceland               50854.583                7.5\n",
              "Australia             50961.865                7.3\n",
              "Ireland               51350.744                7.0\n",
              "Denmark               52114.165                7.5\n",
              "United States         55805.204                7.2"
            ]
          },
          "execution_count": 3,
          "metadata": {},
          "output_type": "execute_result"
        }
      ],
      "source": [
        "import pandas as pd\n",
        "\n",
        "data = pd.read_csv('country_stats.csv', index_col=\"Country\")\n",
        "data"
      ]
    },
    {
      "cell_type": "code",
      "execution_count": null,
      "metadata": {
        "ExecuteTime": {
          "end_time": "2022-01-15T12:26:17.684026Z",
          "start_time": "2022-01-15T12:26:17.376161Z"
        },
        "id": "nPkgRKwUxngx",
        "outputId": "95c5b9b4-94a6-4172-ad02-095e54f94fb2"
      },
      "outputs": [
        {
          "data": {
            "image/png": "[encoded data removed]",
            "text/plain": [
              "<Figure size 432x288 with 1 Axes>"
            ]
          },
          "metadata": {
            "needs_background": "light"
          },
          "output_type": "display_data"
        }
      ],
      "source": [
        "import matplotlib.pyplot as plt\n",
        "\n",
        "data.plot(kind='scatter', x=\"GDP per capita\", y='Life satisfaction')\n",
        "plt.show()"
      ]
    },
    {
      "cell_type": "markdown",
      "metadata": {
        "id": "kUg9OKZBxngx"
      },
      "source": [
        "Como podemos ver en la gráfica, parece que efectivamente existe algún tipo de correlación entre ambas variables. Un primero modelo de ML podría consistir en dibujar una línea recta que siga esta tendencia.\n",
        "\n",
        "$$\n",
        "y = m*x + b\n",
        "$$\n",
        "\n",
        "donde $y$ es la variable que queremos predecir (la felicidad de la gente), $x$ es el PIB del país y $m$ y $b$ son dos constantes que tenemos que encontrar (los parámetros de nuestro modelo). Para ellos usaremos la librería [`Scikit Learn`](https://scikit-learn.org/), la cual aprenderemos poco a poco durante la serie."
      ]
    },
    {
      "cell_type": "code",
      "execution_count": null,
      "metadata": {
        "ExecuteTime": {
          "end_time": "2022-01-15T12:26:17.952094Z",
          "start_time": "2022-01-15T12:26:17.685579Z"
        },
        "id": "oL2JMZzgxngx",
        "outputId": "3f783771-618a-4b0b-d951-0c0f614d8fa0"
      },
      "outputs": [
        {
          "data": {
            "text/plain": [
              "(4.853052800266436, 4.911544589158482e-05)"
            ]
          },
          "execution_count": 12,
          "metadata": {},
          "output_type": "execute_result"
        }
      ],
      "source": [
        "from sklearn import linear_model\n",
        "import numpy as np\n",
        "\n",
        "lin1 = linear_model.LinearRegression()\n",
        "Xsample = np.c_[data[\"GDP per capita\"]]\n",
        "ysample = np.c_[data[\"Life satisfaction\"]]\n",
        "lin1.fit(Xsample, ysample)\n",
        "b, m= lin1.intercept_[0], lin1.coef_[0][0]\n",
        "b, m"
      ]
    },
    {
      "cell_type": "code",
      "execution_count": null,
      "metadata": {
        "ExecuteTime": {
          "end_time": "2022-01-15T12:26:18.126882Z",
          "start_time": "2022-01-15T12:26:17.953282Z"
        },
        "id": "i4K8Bxqsxngx",
        "outputId": "05e69b0d-909e-439c-8edf-39b61f28d160"
      },
      "outputs": [
        {
          "data": {
            "image/png": "[encoded data removed]",
            "text/plain": [
              "<Figure size 360x216 with 1 Axes>"
            ]
          },
          "metadata": {
            "needs_background": "light"
          },
          "output_type": "display_data"
        }
      ],
      "source": [
        "data.plot(kind='scatter', x=\"GDP per capita\", y='Life satisfaction', figsize=(5,3))\n",
        "plt.xlabel(\"GDP per capita (USD)\")\n",
        "plt.axis([0, 60000, 0, 10])\n",
        "X=np.linspace(0, 60000, 1000)\n",
        "plt.plot(X, b + m*X, \"b\")\n",
        "plt.text(5000, 3.1, r\"$b = 4.85$\", fontsize=14, color=\"b\")\n",
        "plt.text(5000, 2.2, r\"$w = 4.91 \\times 10^{-5}$\", fontsize=14, color=\"b\")\n",
        "plt.show()"
      ]
    },
    {
      "cell_type": "markdown",
      "metadata": {
        "id": "Q1QHeDWHxngx"
      },
      "source": [
        "Ahora ya podemos usar nuestro modelo para hacer predicciones (por ejemplo para un nuevo país)."
      ]
    },
    {
      "cell_type": "markdown",
      "metadata": {
        "id": "ZlatiK3omEzN"
      },
      "source": [
        "y = W*X +b  #b=1  #b = bias = sesgo"
      ]
    },
    {
      "cell_type": "code",
      "execution_count": null,
      "metadata": {
        "ExecuteTime": {
          "end_time": "2022-01-15T12:26:18.131866Z",
          "start_time": "2022-01-15T12:26:18.127794Z"
        },
        "id": "Ou0KkjZnxngx",
        "outputId": "09d3de0b-bf53-44dd-cf57-e815e5c5692b"
      },
      "outputs": [
        {
          "data": {
            "text/plain": [
              "5.962423376619663"
            ]
          },
          "execution_count": 14,
          "metadata": {},
          "output_type": "execute_result"
        }
      ],
      "source": [
        "cyprus_gdp_per_capita = 22587\n",
        "cyprus_predicted_life_satisfaction = lin1.predict([[cyprus_gdp_per_capita]])[0][0]\n",
        "cyprus_predicted_life_satisfaction"
      ]
    },
    {
      "cell_type": "code",
      "execution_count": null,
      "metadata": {
        "ExecuteTime": {
          "end_time": "2022-01-15T12:26:18.228395Z",
          "start_time": "2022-01-15T12:26:18.133735Z"
        },
        "id": "KFv3kmQmxngy",
        "outputId": "185f35b1-4339-4c6f-db8a-17f852ddd185"
      },
      "outputs": [
        {
          "data": {
            "image/png": "[encoded data removed]",
            "text/plain": [
              "<Figure size 360x216 with 1 Axes>"
            ]
          },
          "metadata": {
            "needs_background": "light"
          },
          "output_type": "display_data"
        }
      ],
      "source": [
        "data.plot(kind='scatter', x=\"GDP per capita\", y='Life satisfaction', figsize=(5,3), s=1)\n",
        "plt.xlabel(\"GDP per capita (USD)\")\n",
        "X=np.linspace(0, 60000, 1000)\n",
        "plt.plot(X, b + m*X, \"b\")\n",
        "plt.axis([0, 60000, 0, 10])\n",
        "plt.text(5000, 7.5, r\"$b = 4.85$\", fontsize=14, color=\"b\")\n",
        "plt.text(5000, 6.6, r\"$w = 4.91 \\times 10^{-5}$\", fontsize=14, color=\"b\")\n",
        "plt.plot([cyprus_gdp_per_capita, cyprus_gdp_per_capita], [0, cyprus_predicted_life_satisfaction], \"r--\")\n",
        "plt.text(25000, 5.0, r\"Prediction = 5.96\", fontsize=14, color=\"b\")\n",
        "plt.plot(cyprus_gdp_per_capita, cyprus_predicted_life_satisfaction, \"ro\")\n",
        "plt.show()"
      ]
    },
    {
      "cell_type": "markdown",
      "metadata": {
        "id": "zkuqH5Unxngy"
      },
      "source": [
        "Este ejemplo sencillo es muy útil para entender la esencia del ML y sus aplicaciones. Obviamente, el ejemplo es extremadamente simple y existen muchos problemas con los que nos vamos a encontrar y detalles a tener en cuenta. En los siguientes clases aprenderemos sobre muchos de estos conceptos, veremos diferentes algoritmos y aprenderemos a usar las diferentes librerías de Python para ML."
      ]
    },
    {
      "cell_type": "markdown",
      "metadata": {
        "id": "AVSU5pBTxngy"
      },
      "source": [
        "## Recursos de aprendizaje"
      ]
    },
    {
      "cell_type": "markdown",
      "metadata": {
        "id": "DYnQh-Naxngy"
      },
      "source": [
        "Si quieres aprender más sobre ML, aquí tienes algunos libros que te ayudarán a convertirte en un experto de la ciencia de datos:\n",
        "\n",
        "- Hands-On Machine Learning with Scikit-Learn, Keras, and Tensorflow, 2nd Edition, by Aurélien Géron (O'Reilly). Copyright 2019 Kiwisoft S.A.S., 978-1-492-03264-9. RECOMEDADO \n",
        "- Python for Data Analysis by Wes McKinney (O’Reilly). Copyright 2017 Wes McKinsey, 978-1-491-95766-0.\n",
        "- Python Machine Learning, by Sebastian Raschka and Vahid Mirjalili (Packt). Copyright 2019 Packt Publishing., 978-1-78995-575-0\n",
        "J- ames, G., Witten, D., Hastie, T., Tibshirani, R. (2017). An Introduction to Statistical Learning: with Applications in R. Recuperat de http://www-bcf.usc.edu/~gareth/ISL/ISLR SeventhPrinting.pdf\n",
        "- Bishop, C. (2011). Pattern recognition and machine learning (2 ed.). New York: Springer-Verlag GmbH.\n",
        "Goodfellow, I., Bengio, Y., Courville, A. (2016). Deep Learning. Recuperat de https://www.deeplearningbook.org/\n",
        "- Murphy, K. Machine learning: a probabilistic perspective.  Cambridge, Mass.: MIT Press, 2012.\n",
        "- Hastie, T. ; Tibshirani, R. ;  Friedman, J. The elements of statistical learning : data mining, inference, and prediction. New York : Springer, 2009.\n",
        "\n",
        "Además, en internet puedes encontrar cursos online (en páginas como Coursera o Youtube) con muy buenas explicaciones. Una recomendación personal es participar en competiciones, en páginas como Kaggle, en las que puedes aprender haciendo y en la que encontraras muchísimos ejemplos y tutoriales para multitud de tareas.\n"
      ]
    }
  ],
  "metadata": {
    "colab": {
      "provenance": [],
      "include_colab_link": true
    },
    "interpreter": {
      "hash": "74dbfc52f168b3071122cf9c0781887d6121c12f9c1b29bca56ce221bccb2a07"
    },
    "kernelspec": {
      "display_name": "Python 3",
      "language": "python",
      "name": "python3"
    },
    "language_info": {
      "codemirror_mode": {
        "name": "ipython",
        "version": 3
      },
      "file_extension": ".py",
      "mimetype": "text/x-python",
      "name": "python",
      "nbconvert_exporter": "python",
      "pygments_lexer": "ipython3",
      "version": "3.8.8"
    },
    "toc": {
      "base_numbering": 1,
      "nav_menu": {},
      "number_sections": true,
      "sideBar": true,
      "skip_h1_title": false,
      "title_cell": "Table of Contents",
      "title_sidebar": "Contents",
      "toc_cell": false,
      "toc_position": {},
      "toc_section_display": true,
      "toc_window_display": false
    }
  },
  "nbformat": 4,
  "nbformat_minor": 0
}